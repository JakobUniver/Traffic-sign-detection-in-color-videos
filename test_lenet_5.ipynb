{
  "cells": [
    {
      "cell_type": "markdown",
      "metadata": {
        "id": "view-in-github",
        "colab_type": "text"
      },
      "source": [
        "<a href=\"https://colab.research.google.com/github/JakobUniver/Traffic-sign-detection-in-color-videos/blob/main/test_lenet_5.ipynb\" target=\"_parent\"><img src=\"https://colab.research.google.com/assets/colab-badge.svg\" alt=\"Open In Colab\"/></a>"
      ]
    },
    {
      "cell_type": "code",
      "execution_count": 1,
      "metadata": {
        "id": "Qrr0tnK8lwUi"
      },
      "outputs": [],
      "source": [
        "import numpy as np\n",
        "import pandas as pd\n",
        "import matplotlib.pyplot as plt\n",
        "%matplotlib inline\n",
        "import cv2\n",
        "from google.colab.patches import cv2_imshow"
      ]
    },
    {
      "cell_type": "code",
      "source": [
        "!git clone https://github.com/JakobUniver/Traffic-sign-detection-in-color-videos.git -q"
      ],
      "metadata": {
        "id": "YtVqdSXGTUU8"
      },
      "execution_count": 2,
      "outputs": []
    },
    {
      "cell_type": "code",
      "source": [
        "!ls"
      ],
      "metadata": {
        "id": "1Xy4rg-5_zG4",
        "outputId": "c2033c48-12b8-48fe-c1b8-99677403c3c4",
        "colab": {
          "base_uri": "https://localhost:8080/"
        }
      },
      "execution_count": null,
      "outputs": [
        {
          "output_type": "stream",
          "name": "stdout",
          "text": [
            "README.dataset.txt   test\t\t\t\t       valid\n",
            "README.roboflow.txt  Traffi_and_Road_Signs_v1i_multiclass.zip\n",
            "sample_data\t     train\n"
          ]
        }
      ]
    },
    {
      "cell_type": "code",
      "source": [
        "!unzip -q ./Traffi_and_Road_Signs_v1i_multiclass.zip"
      ],
      "metadata": {
        "id": "3QAYcxG8FHO9"
      },
      "execution_count": null,
      "outputs": []
    },
    {
      "cell_type": "code",
      "execution_count": 13,
      "metadata": {
        "id": "-m6TdKk9mFS8"
      },
      "outputs": [],
      "source": [
        "data_df = pd.read_csv(\"Traffic-sign-detection-in-color-videos/data/data_lenet/lenet_data.csv\", index_col=0)\n",
        "data_df[\"Type\"] = pd.Categorical(data_df[\"Type\"])\n",
        "data_df['Class'] = data_df[\"Type\"].cat.codes\n",
        "data_df.loc[data_df['Class'].drop_duplicates().index][['Type', 'Class']].to_csv('lenet_classes2.csv')"
      ]
    },
    {
      "cell_type": "code",
      "source": [
        "classes = pd.read_csv(\"lenet_classes2.csv\", index_col=0)\n",
        "classes"
      ],
      "metadata": {
        "id": "FathIMCuYTOZ",
        "outputId": "fa4fd5da-8b9b-4bf7-f03e-2d9d71b5e844",
        "colab": {
          "base_uri": "https://localhost:8080/",
          "height": 424
        }
      },
      "execution_count": 37,
      "outputs": [
        {
          "output_type": "execute_result",
          "data": {
            "text/plain": [
              "                                                    Type  Class\n",
              "0                             regulatory--keep-right--g1    123\n",
              "1        regulatory--priority-over-oncoming-vehicles--g1    227\n",
              "2                                             other-sign     88\n",
              "3                           regulatory--height-limit--g1    120\n",
              "4                 regulatory--maximum-speed-limit-35--g2    140\n",
              "...                                                  ...    ...\n",
              "31561           information--end-of-pedestrians-only--g2     59\n",
              "40984          complementary--maximum-speed-limit-50--g1     30\n",
              "45540                            warning--playground--g3    330\n",
              "50947                             warning--roadworks--g6    357\n",
              "52825  regulatory--dual-lanes-turn-right-or-straight--g1    100\n",
              "\n",
              "[399 rows x 2 columns]"
            ],
            "text/html": [
              "\n",
              "  <div id=\"df-d456e1d1-237b-43ec-9842-18c251a7ed64\">\n",
              "    <div class=\"colab-df-container\">\n",
              "      <div>\n",
              "<style scoped>\n",
              "    .dataframe tbody tr th:only-of-type {\n",
              "        vertical-align: middle;\n",
              "    }\n",
              "\n",
              "    .dataframe tbody tr th {\n",
              "        vertical-align: top;\n",
              "    }\n",
              "\n",
              "    .dataframe thead th {\n",
              "        text-align: right;\n",
              "    }\n",
              "</style>\n",
              "<table border=\"1\" class=\"dataframe\">\n",
              "  <thead>\n",
              "    <tr style=\"text-align: right;\">\n",
              "      <th></th>\n",
              "      <th>Type</th>\n",
              "      <th>Class</th>\n",
              "    </tr>\n",
              "  </thead>\n",
              "  <tbody>\n",
              "    <tr>\n",
              "      <th>0</th>\n",
              "      <td>regulatory--keep-right--g1</td>\n",
              "      <td>123</td>\n",
              "    </tr>\n",
              "    <tr>\n",
              "      <th>1</th>\n",
              "      <td>regulatory--priority-over-oncoming-vehicles--g1</td>\n",
              "      <td>227</td>\n",
              "    </tr>\n",
              "    <tr>\n",
              "      <th>2</th>\n",
              "      <td>other-sign</td>\n",
              "      <td>88</td>\n",
              "    </tr>\n",
              "    <tr>\n",
              "      <th>3</th>\n",
              "      <td>regulatory--height-limit--g1</td>\n",
              "      <td>120</td>\n",
              "    </tr>\n",
              "    <tr>\n",
              "      <th>4</th>\n",
              "      <td>regulatory--maximum-speed-limit-35--g2</td>\n",
              "      <td>140</td>\n",
              "    </tr>\n",
              "    <tr>\n",
              "      <th>...</th>\n",
              "      <td>...</td>\n",
              "      <td>...</td>\n",
              "    </tr>\n",
              "    <tr>\n",
              "      <th>31561</th>\n",
              "      <td>information--end-of-pedestrians-only--g2</td>\n",
              "      <td>59</td>\n",
              "    </tr>\n",
              "    <tr>\n",
              "      <th>40984</th>\n",
              "      <td>complementary--maximum-speed-limit-50--g1</td>\n",
              "      <td>30</td>\n",
              "    </tr>\n",
              "    <tr>\n",
              "      <th>45540</th>\n",
              "      <td>warning--playground--g3</td>\n",
              "      <td>330</td>\n",
              "    </tr>\n",
              "    <tr>\n",
              "      <th>50947</th>\n",
              "      <td>warning--roadworks--g6</td>\n",
              "      <td>357</td>\n",
              "    </tr>\n",
              "    <tr>\n",
              "      <th>52825</th>\n",
              "      <td>regulatory--dual-lanes-turn-right-or-straight--g1</td>\n",
              "      <td>100</td>\n",
              "    </tr>\n",
              "  </tbody>\n",
              "</table>\n",
              "<p>399 rows × 2 columns</p>\n",
              "</div>\n",
              "      <button class=\"colab-df-convert\" onclick=\"convertToInteractive('df-d456e1d1-237b-43ec-9842-18c251a7ed64')\"\n",
              "              title=\"Convert this dataframe to an interactive table.\"\n",
              "              style=\"display:none;\">\n",
              "        \n",
              "  <svg xmlns=\"http://www.w3.org/2000/svg\" height=\"24px\"viewBox=\"0 0 24 24\"\n",
              "       width=\"24px\">\n",
              "    <path d=\"M0 0h24v24H0V0z\" fill=\"none\"/>\n",
              "    <path d=\"M18.56 5.44l.94 2.06.94-2.06 2.06-.94-2.06-.94-.94-2.06-.94 2.06-2.06.94zm-11 1L8.5 8.5l.94-2.06 2.06-.94-2.06-.94L8.5 2.5l-.94 2.06-2.06.94zm10 10l.94 2.06.94-2.06 2.06-.94-2.06-.94-.94-2.06-.94 2.06-2.06.94z\"/><path d=\"M17.41 7.96l-1.37-1.37c-.4-.4-.92-.59-1.43-.59-.52 0-1.04.2-1.43.59L10.3 9.45l-7.72 7.72c-.78.78-.78 2.05 0 2.83L4 21.41c.39.39.9.59 1.41.59.51 0 1.02-.2 1.41-.59l7.78-7.78 2.81-2.81c.8-.78.8-2.07 0-2.86zM5.41 20L4 18.59l7.72-7.72 1.47 1.35L5.41 20z\"/>\n",
              "  </svg>\n",
              "      </button>\n",
              "      \n",
              "  <style>\n",
              "    .colab-df-container {\n",
              "      display:flex;\n",
              "      flex-wrap:wrap;\n",
              "      gap: 12px;\n",
              "    }\n",
              "\n",
              "    .colab-df-convert {\n",
              "      background-color: #E8F0FE;\n",
              "      border: none;\n",
              "      border-radius: 50%;\n",
              "      cursor: pointer;\n",
              "      display: none;\n",
              "      fill: #1967D2;\n",
              "      height: 32px;\n",
              "      padding: 0 0 0 0;\n",
              "      width: 32px;\n",
              "    }\n",
              "\n",
              "    .colab-df-convert:hover {\n",
              "      background-color: #E2EBFA;\n",
              "      box-shadow: 0px 1px 2px rgba(60, 64, 67, 0.3), 0px 1px 3px 1px rgba(60, 64, 67, 0.15);\n",
              "      fill: #174EA6;\n",
              "    }\n",
              "\n",
              "    [theme=dark] .colab-df-convert {\n",
              "      background-color: #3B4455;\n",
              "      fill: #D2E3FC;\n",
              "    }\n",
              "\n",
              "    [theme=dark] .colab-df-convert:hover {\n",
              "      background-color: #434B5C;\n",
              "      box-shadow: 0px 1px 3px 1px rgba(0, 0, 0, 0.15);\n",
              "      filter: drop-shadow(0px 1px 2px rgba(0, 0, 0, 0.3));\n",
              "      fill: #FFFFFF;\n",
              "    }\n",
              "  </style>\n",
              "\n",
              "      <script>\n",
              "        const buttonEl =\n",
              "          document.querySelector('#df-d456e1d1-237b-43ec-9842-18c251a7ed64 button.colab-df-convert');\n",
              "        buttonEl.style.display =\n",
              "          google.colab.kernel.accessAllowed ? 'block' : 'none';\n",
              "\n",
              "        async function convertToInteractive(key) {\n",
              "          const element = document.querySelector('#df-d456e1d1-237b-43ec-9842-18c251a7ed64');\n",
              "          const dataTable =\n",
              "            await google.colab.kernel.invokeFunction('convertToInteractive',\n",
              "                                                     [key], {});\n",
              "          if (!dataTable) return;\n",
              "\n",
              "          const docLinkHtml = 'Like what you see? Visit the ' +\n",
              "            '<a target=\"_blank\" href=https://colab.research.google.com/notebooks/data_table.ipynb>data table notebook</a>'\n",
              "            + ' to learn more about interactive tables.';\n",
              "          element.innerHTML = '';\n",
              "          dataTable['output_type'] = 'display_data';\n",
              "          await google.colab.output.renderOutput(dataTable, element);\n",
              "          const docLink = document.createElement('div');\n",
              "          docLink.innerHTML = docLinkHtml;\n",
              "          element.appendChild(docLink);\n",
              "        }\n",
              "      </script>\n",
              "    </div>\n",
              "  </div>\n",
              "  "
            ]
          },
          "metadata": {},
          "execution_count": 37
        }
      ]
    },
    {
      "cell_type": "code",
      "source": [
        "num_classes = len(classes.index)\n",
        "num_classes"
      ],
      "metadata": {
        "colab": {
          "base_uri": "https://localhost:8080/"
        },
        "id": "Msr_MHk6CPo8",
        "outputId": "72137721-e0f8-4a59-9d5f-86f06501230e"
      },
      "execution_count": 33,
      "outputs": [
        {
          "output_type": "execute_result",
          "data": {
            "text/plain": [
              "399"
            ]
          },
          "metadata": {},
          "execution_count": 33
        }
      ]
    },
    {
      "cell_type": "code",
      "source": [
        "data_df.head()"
      ],
      "metadata": {
        "id": "KipEMCZHYuSl",
        "outputId": "8ca828cf-0fce-4af3-d5a7-078f6efc3df9",
        "colab": {
          "base_uri": "https://localhost:8080/",
          "height": 206
        }
      },
      "execution_count": 16,
      "outputs": [
        {
          "output_type": "execute_result",
          "data": {
            "text/plain": [
              "                                          Sign  \\\n",
              "0  ./lenet_images/--7fWq6WjZM8L1eUSuvOEA_0.jpg   \n",
              "1  ./lenet_images/--7fWq6WjZM8L1eUSuvOEA_1.jpg   \n",
              "2  ./lenet_images/--7fWq6WjZM8L1eUSuvOEA_2.jpg   \n",
              "3  ./lenet_images/--7fWq6WjZM8L1eUSuvOEA_3.jpg   \n",
              "4  ./lenet_images/--A4b2SOWVi4KL_ryAAtTg_0.jpg   \n",
              "\n",
              "                                              Type  Class  \n",
              "0                       regulatory--keep-right--g1    123  \n",
              "1  regulatory--priority-over-oncoming-vehicles--g1    227  \n",
              "2                                       other-sign     88  \n",
              "3                     regulatory--height-limit--g1    120  \n",
              "4           regulatory--maximum-speed-limit-35--g2    140  "
            ],
            "text/html": [
              "\n",
              "  <div id=\"df-758c8d4f-8223-4858-9043-a473bded8af4\">\n",
              "    <div class=\"colab-df-container\">\n",
              "      <div>\n",
              "<style scoped>\n",
              "    .dataframe tbody tr th:only-of-type {\n",
              "        vertical-align: middle;\n",
              "    }\n",
              "\n",
              "    .dataframe tbody tr th {\n",
              "        vertical-align: top;\n",
              "    }\n",
              "\n",
              "    .dataframe thead th {\n",
              "        text-align: right;\n",
              "    }\n",
              "</style>\n",
              "<table border=\"1\" class=\"dataframe\">\n",
              "  <thead>\n",
              "    <tr style=\"text-align: right;\">\n",
              "      <th></th>\n",
              "      <th>Sign</th>\n",
              "      <th>Type</th>\n",
              "      <th>Class</th>\n",
              "    </tr>\n",
              "  </thead>\n",
              "  <tbody>\n",
              "    <tr>\n",
              "      <th>0</th>\n",
              "      <td>./lenet_images/--7fWq6WjZM8L1eUSuvOEA_0.jpg</td>\n",
              "      <td>regulatory--keep-right--g1</td>\n",
              "      <td>123</td>\n",
              "    </tr>\n",
              "    <tr>\n",
              "      <th>1</th>\n",
              "      <td>./lenet_images/--7fWq6WjZM8L1eUSuvOEA_1.jpg</td>\n",
              "      <td>regulatory--priority-over-oncoming-vehicles--g1</td>\n",
              "      <td>227</td>\n",
              "    </tr>\n",
              "    <tr>\n",
              "      <th>2</th>\n",
              "      <td>./lenet_images/--7fWq6WjZM8L1eUSuvOEA_2.jpg</td>\n",
              "      <td>other-sign</td>\n",
              "      <td>88</td>\n",
              "    </tr>\n",
              "    <tr>\n",
              "      <th>3</th>\n",
              "      <td>./lenet_images/--7fWq6WjZM8L1eUSuvOEA_3.jpg</td>\n",
              "      <td>regulatory--height-limit--g1</td>\n",
              "      <td>120</td>\n",
              "    </tr>\n",
              "    <tr>\n",
              "      <th>4</th>\n",
              "      <td>./lenet_images/--A4b2SOWVi4KL_ryAAtTg_0.jpg</td>\n",
              "      <td>regulatory--maximum-speed-limit-35--g2</td>\n",
              "      <td>140</td>\n",
              "    </tr>\n",
              "  </tbody>\n",
              "</table>\n",
              "</div>\n",
              "      <button class=\"colab-df-convert\" onclick=\"convertToInteractive('df-758c8d4f-8223-4858-9043-a473bded8af4')\"\n",
              "              title=\"Convert this dataframe to an interactive table.\"\n",
              "              style=\"display:none;\">\n",
              "        \n",
              "  <svg xmlns=\"http://www.w3.org/2000/svg\" height=\"24px\"viewBox=\"0 0 24 24\"\n",
              "       width=\"24px\">\n",
              "    <path d=\"M0 0h24v24H0V0z\" fill=\"none\"/>\n",
              "    <path d=\"M18.56 5.44l.94 2.06.94-2.06 2.06-.94-2.06-.94-.94-2.06-.94 2.06-2.06.94zm-11 1L8.5 8.5l.94-2.06 2.06-.94-2.06-.94L8.5 2.5l-.94 2.06-2.06.94zm10 10l.94 2.06.94-2.06 2.06-.94-2.06-.94-.94-2.06-.94 2.06-2.06.94z\"/><path d=\"M17.41 7.96l-1.37-1.37c-.4-.4-.92-.59-1.43-.59-.52 0-1.04.2-1.43.59L10.3 9.45l-7.72 7.72c-.78.78-.78 2.05 0 2.83L4 21.41c.39.39.9.59 1.41.59.51 0 1.02-.2 1.41-.59l7.78-7.78 2.81-2.81c.8-.78.8-2.07 0-2.86zM5.41 20L4 18.59l7.72-7.72 1.47 1.35L5.41 20z\"/>\n",
              "  </svg>\n",
              "      </button>\n",
              "      \n",
              "  <style>\n",
              "    .colab-df-container {\n",
              "      display:flex;\n",
              "      flex-wrap:wrap;\n",
              "      gap: 12px;\n",
              "    }\n",
              "\n",
              "    .colab-df-convert {\n",
              "      background-color: #E8F0FE;\n",
              "      border: none;\n",
              "      border-radius: 50%;\n",
              "      cursor: pointer;\n",
              "      display: none;\n",
              "      fill: #1967D2;\n",
              "      height: 32px;\n",
              "      padding: 0 0 0 0;\n",
              "      width: 32px;\n",
              "    }\n",
              "\n",
              "    .colab-df-convert:hover {\n",
              "      background-color: #E2EBFA;\n",
              "      box-shadow: 0px 1px 2px rgba(60, 64, 67, 0.3), 0px 1px 3px 1px rgba(60, 64, 67, 0.15);\n",
              "      fill: #174EA6;\n",
              "    }\n",
              "\n",
              "    [theme=dark] .colab-df-convert {\n",
              "      background-color: #3B4455;\n",
              "      fill: #D2E3FC;\n",
              "    }\n",
              "\n",
              "    [theme=dark] .colab-df-convert:hover {\n",
              "      background-color: #434B5C;\n",
              "      box-shadow: 0px 1px 3px 1px rgba(0, 0, 0, 0.15);\n",
              "      filter: drop-shadow(0px 1px 2px rgba(0, 0, 0, 0.3));\n",
              "      fill: #FFFFFF;\n",
              "    }\n",
              "  </style>\n",
              "\n",
              "      <script>\n",
              "        const buttonEl =\n",
              "          document.querySelector('#df-758c8d4f-8223-4858-9043-a473bded8af4 button.colab-df-convert');\n",
              "        buttonEl.style.display =\n",
              "          google.colab.kernel.accessAllowed ? 'block' : 'none';\n",
              "\n",
              "        async function convertToInteractive(key) {\n",
              "          const element = document.querySelector('#df-758c8d4f-8223-4858-9043-a473bded8af4');\n",
              "          const dataTable =\n",
              "            await google.colab.kernel.invokeFunction('convertToInteractive',\n",
              "                                                     [key], {});\n",
              "          if (!dataTable) return;\n",
              "\n",
              "          const docLinkHtml = 'Like what you see? Visit the ' +\n",
              "            '<a target=\"_blank\" href=https://colab.research.google.com/notebooks/data_table.ipynb>data table notebook</a>'\n",
              "            + ' to learn more about interactive tables.';\n",
              "          element.innerHTML = '';\n",
              "          dataTable['output_type'] = 'display_data';\n",
              "          await google.colab.output.renderOutput(dataTable, element);\n",
              "          const docLink = document.createElement('div');\n",
              "          docLink.innerHTML = docLinkHtml;\n",
              "          element.appendChild(docLink);\n",
              "        }\n",
              "      </script>\n",
              "    </div>\n",
              "  </div>\n",
              "  "
            ]
          },
          "metadata": {},
          "execution_count": 16
        }
      ]
    },
    {
      "cell_type": "code",
      "source": [
        "filter_out = data_df[data_df['Class'] == 88][500:].index\n",
        "data_df = data_df[~data_df.index.isin(filter_out)]\n",
        "data_df"
      ],
      "metadata": {
        "id": "idz2it40h3X-",
        "outputId": "cac1a714-3ef2-425f-fb4f-6c750fd06e99",
        "colab": {
          "base_uri": "https://localhost:8080/",
          "height": 424
        }
      },
      "execution_count": 72,
      "outputs": [
        {
          "output_type": "execute_result",
          "data": {
            "text/plain": [
              "                                              Sign  \\\n",
              "0      ./lenet_images/--7fWq6WjZM8L1eUSuvOEA_0.jpg   \n",
              "1      ./lenet_images/--7fWq6WjZM8L1eUSuvOEA_1.jpg   \n",
              "3      ./lenet_images/--7fWq6WjZM8L1eUSuvOEA_3.jpg   \n",
              "4      ./lenet_images/--A4b2SOWVi4KL_ryAAtTg_0.jpg   \n",
              "13     ./lenet_images/--L1OMr84-e5nOLbNH5sBA_0.jpg   \n",
              "...                                            ...   \n",
              "59540  ./lenet_images/KA9KbiQuumTN223d7MYYOA_0.jpg   \n",
              "59546  ./lenet_images/KAamiWzaECoFN2HV_AZ5UA_0.jpg   \n",
              "59547  ./lenet_images/KALPFJEk2_1VcaWfZ6Wg3A_0.jpg   \n",
              "59556  ./lenet_images/KB1TSyX4C9-cF5DXNKQdMQ_0.jpg   \n",
              "59557  ./lenet_images/KB1TSyX4C9-cF5DXNKQdMQ_1.jpg   \n",
              "\n",
              "                                                    Type  Class  \n",
              "0                             regulatory--keep-right--g1    123  \n",
              "1        regulatory--priority-over-oncoming-vehicles--g1    227  \n",
              "3                           regulatory--height-limit--g1    120  \n",
              "4                 regulatory--maximum-speed-limit-35--g2    140  \n",
              "13          warning--railroad-crossing-with-barriers--g1    334  \n",
              "...                                                  ...    ...  \n",
              "59540                      regulatory--priority-road--g4    228  \n",
              "59546                       regulatory--no-left-turn--g1    171  \n",
              "59547                           warning--curve-right--g2    278  \n",
              "59556  warning--junction-with-a-side-road-perpendicul...    310  \n",
              "59557  regulatory--no-vehicles-carrying-dangerous-goo...    213  \n",
              "\n",
              "[20925 rows x 3 columns]"
            ],
            "text/html": [
              "\n",
              "  <div id=\"df-9ab58c92-cc44-4817-b46c-5a88934c0251\">\n",
              "    <div class=\"colab-df-container\">\n",
              "      <div>\n",
              "<style scoped>\n",
              "    .dataframe tbody tr th:only-of-type {\n",
              "        vertical-align: middle;\n",
              "    }\n",
              "\n",
              "    .dataframe tbody tr th {\n",
              "        vertical-align: top;\n",
              "    }\n",
              "\n",
              "    .dataframe thead th {\n",
              "        text-align: right;\n",
              "    }\n",
              "</style>\n",
              "<table border=\"1\" class=\"dataframe\">\n",
              "  <thead>\n",
              "    <tr style=\"text-align: right;\">\n",
              "      <th></th>\n",
              "      <th>Sign</th>\n",
              "      <th>Type</th>\n",
              "      <th>Class</th>\n",
              "    </tr>\n",
              "  </thead>\n",
              "  <tbody>\n",
              "    <tr>\n",
              "      <th>0</th>\n",
              "      <td>./lenet_images/--7fWq6WjZM8L1eUSuvOEA_0.jpg</td>\n",
              "      <td>regulatory--keep-right--g1</td>\n",
              "      <td>123</td>\n",
              "    </tr>\n",
              "    <tr>\n",
              "      <th>1</th>\n",
              "      <td>./lenet_images/--7fWq6WjZM8L1eUSuvOEA_1.jpg</td>\n",
              "      <td>regulatory--priority-over-oncoming-vehicles--g1</td>\n",
              "      <td>227</td>\n",
              "    </tr>\n",
              "    <tr>\n",
              "      <th>3</th>\n",
              "      <td>./lenet_images/--7fWq6WjZM8L1eUSuvOEA_3.jpg</td>\n",
              "      <td>regulatory--height-limit--g1</td>\n",
              "      <td>120</td>\n",
              "    </tr>\n",
              "    <tr>\n",
              "      <th>4</th>\n",
              "      <td>./lenet_images/--A4b2SOWVi4KL_ryAAtTg_0.jpg</td>\n",
              "      <td>regulatory--maximum-speed-limit-35--g2</td>\n",
              "      <td>140</td>\n",
              "    </tr>\n",
              "    <tr>\n",
              "      <th>13</th>\n",
              "      <td>./lenet_images/--L1OMr84-e5nOLbNH5sBA_0.jpg</td>\n",
              "      <td>warning--railroad-crossing-with-barriers--g1</td>\n",
              "      <td>334</td>\n",
              "    </tr>\n",
              "    <tr>\n",
              "      <th>...</th>\n",
              "      <td>...</td>\n",
              "      <td>...</td>\n",
              "      <td>...</td>\n",
              "    </tr>\n",
              "    <tr>\n",
              "      <th>59540</th>\n",
              "      <td>./lenet_images/KA9KbiQuumTN223d7MYYOA_0.jpg</td>\n",
              "      <td>regulatory--priority-road--g4</td>\n",
              "      <td>228</td>\n",
              "    </tr>\n",
              "    <tr>\n",
              "      <th>59546</th>\n",
              "      <td>./lenet_images/KAamiWzaECoFN2HV_AZ5UA_0.jpg</td>\n",
              "      <td>regulatory--no-left-turn--g1</td>\n",
              "      <td>171</td>\n",
              "    </tr>\n",
              "    <tr>\n",
              "      <th>59547</th>\n",
              "      <td>./lenet_images/KALPFJEk2_1VcaWfZ6Wg3A_0.jpg</td>\n",
              "      <td>warning--curve-right--g2</td>\n",
              "      <td>278</td>\n",
              "    </tr>\n",
              "    <tr>\n",
              "      <th>59556</th>\n",
              "      <td>./lenet_images/KB1TSyX4C9-cF5DXNKQdMQ_0.jpg</td>\n",
              "      <td>warning--junction-with-a-side-road-perpendicul...</td>\n",
              "      <td>310</td>\n",
              "    </tr>\n",
              "    <tr>\n",
              "      <th>59557</th>\n",
              "      <td>./lenet_images/KB1TSyX4C9-cF5DXNKQdMQ_1.jpg</td>\n",
              "      <td>regulatory--no-vehicles-carrying-dangerous-goo...</td>\n",
              "      <td>213</td>\n",
              "    </tr>\n",
              "  </tbody>\n",
              "</table>\n",
              "<p>20925 rows × 3 columns</p>\n",
              "</div>\n",
              "      <button class=\"colab-df-convert\" onclick=\"convertToInteractive('df-9ab58c92-cc44-4817-b46c-5a88934c0251')\"\n",
              "              title=\"Convert this dataframe to an interactive table.\"\n",
              "              style=\"display:none;\">\n",
              "        \n",
              "  <svg xmlns=\"http://www.w3.org/2000/svg\" height=\"24px\"viewBox=\"0 0 24 24\"\n",
              "       width=\"24px\">\n",
              "    <path d=\"M0 0h24v24H0V0z\" fill=\"none\"/>\n",
              "    <path d=\"M18.56 5.44l.94 2.06.94-2.06 2.06-.94-2.06-.94-.94-2.06-.94 2.06-2.06.94zm-11 1L8.5 8.5l.94-2.06 2.06-.94-2.06-.94L8.5 2.5l-.94 2.06-2.06.94zm10 10l.94 2.06.94-2.06 2.06-.94-2.06-.94-.94-2.06-.94 2.06-2.06.94z\"/><path d=\"M17.41 7.96l-1.37-1.37c-.4-.4-.92-.59-1.43-.59-.52 0-1.04.2-1.43.59L10.3 9.45l-7.72 7.72c-.78.78-.78 2.05 0 2.83L4 21.41c.39.39.9.59 1.41.59.51 0 1.02-.2 1.41-.59l7.78-7.78 2.81-2.81c.8-.78.8-2.07 0-2.86zM5.41 20L4 18.59l7.72-7.72 1.47 1.35L5.41 20z\"/>\n",
              "  </svg>\n",
              "      </button>\n",
              "      \n",
              "  <style>\n",
              "    .colab-df-container {\n",
              "      display:flex;\n",
              "      flex-wrap:wrap;\n",
              "      gap: 12px;\n",
              "    }\n",
              "\n",
              "    .colab-df-convert {\n",
              "      background-color: #E8F0FE;\n",
              "      border: none;\n",
              "      border-radius: 50%;\n",
              "      cursor: pointer;\n",
              "      display: none;\n",
              "      fill: #1967D2;\n",
              "      height: 32px;\n",
              "      padding: 0 0 0 0;\n",
              "      width: 32px;\n",
              "    }\n",
              "\n",
              "    .colab-df-convert:hover {\n",
              "      background-color: #E2EBFA;\n",
              "      box-shadow: 0px 1px 2px rgba(60, 64, 67, 0.3), 0px 1px 3px 1px rgba(60, 64, 67, 0.15);\n",
              "      fill: #174EA6;\n",
              "    }\n",
              "\n",
              "    [theme=dark] .colab-df-convert {\n",
              "      background-color: #3B4455;\n",
              "      fill: #D2E3FC;\n",
              "    }\n",
              "\n",
              "    [theme=dark] .colab-df-convert:hover {\n",
              "      background-color: #434B5C;\n",
              "      box-shadow: 0px 1px 3px 1px rgba(0, 0, 0, 0.15);\n",
              "      filter: drop-shadow(0px 1px 2px rgba(0, 0, 0, 0.3));\n",
              "      fill: #FFFFFF;\n",
              "    }\n",
              "  </style>\n",
              "\n",
              "      <script>\n",
              "        const buttonEl =\n",
              "          document.querySelector('#df-9ab58c92-cc44-4817-b46c-5a88934c0251 button.colab-df-convert');\n",
              "        buttonEl.style.display =\n",
              "          google.colab.kernel.accessAllowed ? 'block' : 'none';\n",
              "\n",
              "        async function convertToInteractive(key) {\n",
              "          const element = document.querySelector('#df-9ab58c92-cc44-4817-b46c-5a88934c0251');\n",
              "          const dataTable =\n",
              "            await google.colab.kernel.invokeFunction('convertToInteractive',\n",
              "                                                     [key], {});\n",
              "          if (!dataTable) return;\n",
              "\n",
              "          const docLinkHtml = 'Like what you see? Visit the ' +\n",
              "            '<a target=\"_blank\" href=https://colab.research.google.com/notebooks/data_table.ipynb>data table notebook</a>'\n",
              "            + ' to learn more about interactive tables.';\n",
              "          element.innerHTML = '';\n",
              "          dataTable['output_type'] = 'display_data';\n",
              "          await google.colab.output.renderOutput(dataTable, element);\n",
              "          const docLink = document.createElement('div');\n",
              "          docLink.innerHTML = docLinkHtml;\n",
              "          element.appendChild(docLink);\n",
              "        }\n",
              "      </script>\n",
              "    </div>\n",
              "  </div>\n",
              "  "
            ]
          },
          "metadata": {},
          "execution_count": 72
        }
      ]
    },
    {
      "cell_type": "code",
      "source": [
        "imgs = data_df.apply(lambda row: cv2.imread('Traffic-sign-detection-in-color-videos/data/data_lenet'+row['Sign'][1:]), axis=1)"
      ],
      "metadata": {
        "id": "DkCQ79GpDIX6"
      },
      "execution_count": 73,
      "outputs": []
    },
    {
      "cell_type": "code",
      "source": [
        "#new_shape = (64,64)\n",
        "#imgs = imgs_org.apply((lambda img: cv2.resize(img, new_shape, interpolation=cv2.INTER_AREA)))\n",
        "#imgs = imgs.apply((lambda img: cv2.cvtColor(img, cv2.COLOR_BGR2GRAY)))"
      ],
      "metadata": {
        "id": "-J8by7qxabYF"
      },
      "execution_count": null,
      "outputs": []
    },
    {
      "cell_type": "code",
      "source": [
        "imgs = np.array(list(imgs))"
      ],
      "metadata": {
        "id": "Kh_6Xou4e-SB"
      },
      "execution_count": 74,
      "outputs": []
    },
    {
      "cell_type": "code",
      "source": [
        "data_df['Class'].value_counts()"
      ],
      "metadata": {
        "id": "7zIAv3VRjc7o",
        "outputId": "131ccccd-fcac-4f69-be3d-98c0fe948556",
        "colab": {
          "base_uri": "https://localhost:8080/"
        }
      },
      "execution_count": 77,
      "outputs": [
        {
          "output_type": "execute_result",
          "data": {
            "text/plain": [
              "263    827\n",
              "79     685\n",
              "164    603\n",
              "8      531\n",
              "88     500\n",
              "      ... \n",
              "59       2\n",
              "106      2\n",
              "64       2\n",
              "357      2\n",
              "100      1\n",
              "Name: Class, Length: 399, dtype: int64"
            ]
          },
          "metadata": {},
          "execution_count": 77
        }
      ]
    },
    {
      "cell_type": "code",
      "source": [
        "label = data_df['Class'].to_numpy()\n",
        "label.shape\n"
      ],
      "metadata": {
        "id": "IuYRXEDJZdid",
        "outputId": "36788965-2816-4c28-a626-1299a1aae623",
        "colab": {
          "base_uri": "https://localhost:8080/"
        }
      },
      "execution_count": 78,
      "outputs": [
        {
          "output_type": "execute_result",
          "data": {
            "text/plain": [
              "(20925,)"
            ]
          },
          "metadata": {},
          "execution_count": 78
        }
      ]
    },
    {
      "cell_type": "code",
      "source": [
        "id = 7000\n",
        "print(data_df.iloc[id])\n",
        "cv2_imshow(imgs[id])"
      ],
      "metadata": {
        "id": "PlRxqSH_BjVq",
        "outputId": "944ba996-1632-4cc4-de39-2356a87c407a",
        "colab": {
          "base_uri": "https://localhost:8080/",
          "height": 619
        }
      },
      "execution_count": null,
      "outputs": [
        {
          "output_type": "stream",
          "name": "stdout",
          "text": [
            "filename                                00033_00002_00001_png_jpg.rf.b974e1342a26f2404...\n",
            " -Road narrows on right                                                                 0\n",
            " 50 mph speed limit                                                                     0\n",
            " Attention Please-                                                                      0\n",
            " Beware of children                                                                     0\n",
            " CYCLE ROUTE AHEAD WARNING                                                              0\n",
            " Dangerous Left Curve Ahead                                                             0\n",
            " Dangerous Rright Curve Ahead                                                           0\n",
            " End of all speed and passing limits                                                    0\n",
            " Give Way                                                                               0\n",
            " Go Straight or Turn Right                                                              0\n",
            " Go straight or turn left                                                               0\n",
            " Keep-Left                                                                              0\n",
            " Keep-Right                                                                             0\n",
            " Left Zig Zag Traffic                                                                   0\n",
            " No Entry                                                                               0\n",
            " No_Over_Taking                                                                         0\n",
            " Overtaking by trucks is prohibited                                                     0\n",
            " Pedestrian Crossing                                                                    0\n",
            " Round-About                                                                            0\n",
            " Slippery Road Ahead                                                                    0\n",
            " Speed Limit 20 KMPh                                                                    0\n",
            " Speed Limit 30 KMPh                                                                    0\n",
            " Stop_Sign                                                                              0\n",
            " Straight Ahead Only                                                                    0\n",
            " Traffic_signal                                                                         0\n",
            " Truck traffic is prohibited                                                            0\n",
            " Turn left ahead                                                                        0\n",
            " Turn right ahead                                                                       1\n",
            " Uneven Road                                                                            0\n",
            "Name: 7000, dtype: object\n"
          ]
        },
        {
          "output_type": "display_data",
          "data": {
            "text/plain": [
              "<PIL.Image.Image image mode=L size=64x64 at 0x7FD6CC9F1850>"
            ],
            "image/png": "[encoded data removed]"
          },
          "metadata": {}
        }
      ]
    },
    {
      "cell_type": "code",
      "source": [
        "#mu = imgs.mean(axis=(0)) # finds mean of R, G and B separately\n",
        "#std = imgs.std(axis=(0)) # same for std\n",
        "#X_norm = (imgs - mu)/std\n",
        "#print(mu, std)"
      ],
      "metadata": {
        "id": "bYzK_aKXC_nE"
      },
      "execution_count": null,
      "outputs": []
    },
    {
      "cell_type": "code",
      "source": [
        "#X_norm.shape"
      ],
      "metadata": {
        "id": "a1vmfJtBadt0"
      },
      "execution_count": null,
      "outputs": []
    },
    {
      "cell_type": "code",
      "source": [
        "img_shape = imgs[0].shape\n",
        "img_shape"
      ],
      "metadata": {
        "colab": {
          "base_uri": "https://localhost:8080/"
        },
        "id": "EkcAfCf3ZRdS",
        "outputId": "65104c5a-d33b-4256-d84b-65b364ebfd63"
      },
      "execution_count": 30,
      "outputs": [
        {
          "output_type": "execute_result",
          "data": {
            "text/plain": [
              "(64, 64, 3)"
            ]
          },
          "metadata": {},
          "execution_count": 30
        }
      ]
    },
    {
      "cell_type": "code",
      "source": [
        "#y = data_df.apply(lambda row: [np.where(row.values[1:num_classes+1] == 1)[0][0]], axis=1)\n",
        "#y = data_df.apply(lambda row: np.where(row.values[1:num_classes+1] == 1)[0][0], axis=1)\n",
        "y = data_df.apply(lambda row: row.values[1:num_classes+1], axis=1)\n",
        "#y = np.array(list(y),dtype=bool)"
      ],
      "metadata": {
        "id": "M8uom7hOOakq"
      },
      "execution_count": null,
      "outputs": []
    },
    {
      "cell_type": "code",
      "source": [
        "y[id]"
      ],
      "metadata": {
        "colab": {
          "base_uri": "https://localhost:8080/"
        },
        "id": "SdTS66hnjV6I",
        "outputId": "591bef95-afcc-44dd-de96-f1a236f35343"
      },
      "execution_count": null,
      "outputs": [
        {
          "output_type": "execute_result",
          "data": {
            "text/plain": [
              "array([0, 0, 0, 0, 0, 0, 0, 0, 0, 0, 0, 0, 0, 0, 0, 0, 0, 0, 0, 0, 0, 0,\n",
              "       0, 0, 0, 0, 0, 1, 0], dtype=object)"
            ]
          },
          "metadata": {},
          "execution_count": 20
        }
      ]
    },
    {
      "cell_type": "code",
      "source": [
        "y_label = np.array(list([[l.argmax()]for l in y]))\n",
        "y_label.shape"
      ],
      "metadata": {
        "id": "hfR6KL-qN9Yh",
        "outputId": "7b62a8d8-0a48-41af-fa29-6a61ff4d803c",
        "colab": {
          "base_uri": "https://localhost:8080/"
        }
      },
      "execution_count": null,
      "outputs": [
        {
          "output_type": "execute_result",
          "data": {
            "text/plain": [
              "(7092, 1)"
            ]
          },
          "metadata": {},
          "execution_count": 21
        }
      ]
    },
    {
      "cell_type": "code",
      "execution_count": 79,
      "metadata": {
        "id": "aHCDsX8lnWbk"
      },
      "outputs": [],
      "source": [
        "import keras\n",
        "from tensorflow.keras.models import Sequential\n",
        "from tensorflow.keras.layers import Dense, Flatten, Conv2D, Dropout, MaxPooling2D\n",
        "from tensorflow.keras.optimizers import Adam\n",
        "from tensorflow.keras.losses import sparse_categorical_crossentropy\n",
        "import tensorflow as tf\n",
        "\n",
        "from tensorflow.keras.models import Model\n",
        "from tensorflow.keras.optimizers import Adam\n",
        "from tensorflow.keras.layers import Input, Conv2D, Activation, Flatten, Dense, MaxPooling2D, BatchNormalization, Dropout,Normalization"
      ]
    },
    {
      "cell_type": "code",
      "source": [
        "normalizer = Normalization()\n",
        "normalizer.adapt(imgs)"
      ],
      "metadata": {
        "id": "JwHVqg7bMFa0"
      },
      "execution_count": 80,
      "outputs": []
    },
    {
      "cell_type": "code",
      "source": [
        "x = Input(shape=(img_shape[0],img_shape[1],3 if len(img_shape) == 3 else 1))\n",
        "n = normalizer(x)\n",
        "c1 = Conv2D(60, (5, 5), strides=(1, 1), padding=\"same\")(n)\n",
        "b1 = BatchNormalization()(c1)\n",
        "a1 = Activation('tanh')(b1)\n",
        "\n",
        "c2 = Conv2D(60, (5, 5), strides=(1, 1), padding=\"valid\")(a1)\n",
        "b2 = BatchNormalization()(c2)\n",
        "a2 = Activation('tanh')(b2)\n",
        "\n",
        "p3 = MaxPooling2D(pool_size=2)(a2)\n",
        "\n",
        "c4 = Conv2D(30, (5, 5), strides=(1, 1), padding=\"valid\")(p3)\n",
        "b4 = BatchNormalization()(c4)\n",
        "a4 = Activation('tanh')(b4)\n",
        "\n",
        "c5 = Conv2D(30, (5, 5), strides=(1, 1), padding=\"same\")(a4)\n",
        "b5 = BatchNormalization()(c5)\n",
        "a5 = Activation('tanh')(b5)\n",
        "\n",
        "p6 = MaxPooling2D(pool_size=2, padding=\"same\")(a5)\n",
        "d6 = Dropout(rate=0.5)(p6)\n",
        "f6 = Flatten()(d6)\n",
        "\n",
        "h7 = Dense(500)(f6)\n",
        "b7 = BatchNormalization()(h7)\n",
        "a7 = Activation('tanh')(b7)\n",
        "\n",
        "\n",
        "h8 = Dense(500)(a7)\n",
        "b8 = BatchNormalization()(h8)\n",
        "a8 = Activation('softmax')(b8)\n",
        "d8 = Dropout(rate=0.5)(a8)\n",
        "\n",
        "z = Dense(num_classes)(d8)\n",
        "p = Activation('softmax')(z)\n",
        "model = Model(inputs=x, outputs=p)\n",
        "model.compile(loss='sparse_categorical_crossentropy', optimizer=Adam(lr=0.001), metrics=['accuracy'])\n",
        "#model.compile(loss=keras.losses.categorical_crossentropy, optimizer='SGD', metrics=[\"accuracy\"])"
      ],
      "metadata": {
        "id": "3UnSVnIuKtPa",
        "outputId": "e4b68c2d-a9ea-44f5-d9ec-48b8f69fe632",
        "colab": {
          "base_uri": "https://localhost:8080/"
        }
      },
      "execution_count": 81,
      "outputs": [
        {
          "output_type": "stream",
          "name": "stderr",
          "text": [
            "/usr/local/lib/python3.8/dist-packages/keras/optimizers/optimizer_v2/adam.py:110: UserWarning: The `lr` argument is deprecated, use `learning_rate` instead.\n",
            "  super(Adam, self).__init__(name, **kwargs)\n"
          ]
        }
      ]
    },
    {
      "cell_type": "code",
      "source": [
        "model.summary()"
      ],
      "metadata": {
        "id": "UivC630mMRpb",
        "outputId": "8cebcff2-70e7-49f4-efd4-69a8c5609385",
        "colab": {
          "base_uri": "https://localhost:8080/"
        }
      },
      "execution_count": 82,
      "outputs": [
        {
          "output_type": "stream",
          "name": "stdout",
          "text": [
            "Model: \"model_1\"\n",
            "_________________________________________________________________\n",
            " Layer (type)                Output Shape              Param #   \n",
            "=================================================================\n",
            " input_3 (InputLayer)        [(None, 64, 64, 3)]       0         \n",
            "                                                                 \n",
            " normalization_1 (Normalizat  (None, 64, 64, 3)        7         \n",
            " ion)                                                            \n",
            "                                                                 \n",
            " conv2d_8 (Conv2D)           (None, 64, 64, 60)        4560      \n",
            "                                                                 \n",
            " batch_normalization_12 (Bat  (None, 64, 64, 60)       240       \n",
            " chNormalization)                                                \n",
            "                                                                 \n",
            " activation_13 (Activation)  (None, 64, 64, 60)        0         \n",
            "                                                                 \n",
            " conv2d_9 (Conv2D)           (None, 60, 60, 60)        90060     \n",
            "                                                                 \n",
            " batch_normalization_13 (Bat  (None, 60, 60, 60)       240       \n",
            " chNormalization)                                                \n",
            "                                                                 \n",
            " activation_14 (Activation)  (None, 60, 60, 60)        0         \n",
            "                                                                 \n",
            " max_pooling2d_4 (MaxPooling  (None, 30, 30, 60)       0         \n",
            " 2D)                                                             \n",
            "                                                                 \n",
            " conv2d_10 (Conv2D)          (None, 26, 26, 30)        45030     \n",
            "                                                                 \n",
            " batch_normalization_14 (Bat  (None, 26, 26, 30)       120       \n",
            " chNormalization)                                                \n",
            "                                                                 \n",
            " activation_15 (Activation)  (None, 26, 26, 30)        0         \n",
            "                                                                 \n",
            " conv2d_11 (Conv2D)          (None, 26, 26, 30)        22530     \n",
            "                                                                 \n",
            " batch_normalization_15 (Bat  (None, 26, 26, 30)       120       \n",
            " chNormalization)                                                \n",
            "                                                                 \n",
            " activation_16 (Activation)  (None, 26, 26, 30)        0         \n",
            "                                                                 \n",
            " max_pooling2d_5 (MaxPooling  (None, 13, 13, 30)       0         \n",
            " 2D)                                                             \n",
            "                                                                 \n",
            " dropout_4 (Dropout)         (None, 13, 13, 30)        0         \n",
            "                                                                 \n",
            " flatten_2 (Flatten)         (None, 5070)              0         \n",
            "                                                                 \n",
            " dense_5 (Dense)             (None, 500)               2535500   \n",
            "                                                                 \n",
            " batch_normalization_16 (Bat  (None, 500)              2000      \n",
            " chNormalization)                                                \n",
            "                                                                 \n",
            " activation_17 (Activation)  (None, 500)               0         \n",
            "                                                                 \n",
            " dense_6 (Dense)             (None, 500)               250500    \n",
            "                                                                 \n",
            " batch_normalization_17 (Bat  (None, 500)              2000      \n",
            " chNormalization)                                                \n",
            "                                                                 \n",
            " activation_18 (Activation)  (None, 500)               0         \n",
            "                                                                 \n",
            " dropout_5 (Dropout)         (None, 500)               0         \n",
            "                                                                 \n",
            " dense_7 (Dense)             (None, 399)               199899    \n",
            "                                                                 \n",
            " activation_19 (Activation)  (None, 399)               0         \n",
            "                                                                 \n",
            "=================================================================\n",
            "Total params: 3,152,806\n",
            "Trainable params: 3,150,439\n",
            "Non-trainable params: 2,367\n",
            "_________________________________________________________________\n"
          ]
        }
      ]
    },
    {
      "cell_type": "code",
      "source": [
        "history = model.fit(imgs,label, batch_size=64, epochs=50, validation_split=0.2)"
      ],
      "metadata": {
        "colab": {
          "base_uri": "https://localhost:8080/"
        },
        "id": "ewGpOHZDTKAr",
        "outputId": "cd72259d-810d-4a04-ae74-8f58922715d2"
      },
      "execution_count": 88,
      "outputs": [
        {
          "output_type": "stream",
          "name": "stdout",
          "text": [
            "Epoch 1/50\n",
            "262/262 [==============================] - 11s 42ms/step - loss: 1.1222 - accuracy: 0.7550 - val_loss: 0.8877 - val_accuracy: 0.8196\n",
            "Epoch 2/50\n",
            "262/262 [==============================] - 11s 42ms/step - loss: 1.1006 - accuracy: 0.7602 - val_loss: 0.8768 - val_accuracy: 0.8215\n",
            "Epoch 3/50\n",
            "262/262 [==============================] - 11s 42ms/step - loss: 1.1015 - accuracy: 0.7585 - val_loss: 0.8817 - val_accuracy: 0.8232\n",
            "Epoch 4/50\n",
            "262/262 [==============================] - 11s 42ms/step - loss: 1.0954 - accuracy: 0.7590 - val_loss: 0.8611 - val_accuracy: 0.8263\n",
            "Epoch 5/50\n",
            "262/262 [==============================] - 11s 42ms/step - loss: 1.0884 - accuracy: 0.7600 - val_loss: 0.8777 - val_accuracy: 0.8172\n",
            "Epoch 6/50\n",
            "262/262 [==============================] - 11s 42ms/step - loss: 1.0836 - accuracy: 0.7630 - val_loss: 0.8724 - val_accuracy: 0.8208\n",
            "Epoch 7/50\n",
            "262/262 [==============================] - 11s 42ms/step - loss: 1.0861 - accuracy: 0.7616 - val_loss: 0.8798 - val_accuracy: 0.8170\n",
            "Epoch 8/50\n",
            "262/262 [==============================] - 11s 41ms/step - loss: 1.0705 - accuracy: 0.7691 - val_loss: 0.8567 - val_accuracy: 0.8229\n",
            "Epoch 9/50\n",
            "262/262 [==============================] - 11s 41ms/step - loss: 1.0749 - accuracy: 0.7645 - val_loss: 0.8582 - val_accuracy: 0.8246\n",
            "Epoch 10/50\n",
            "262/262 [==============================] - 11s 42ms/step - loss: 1.0601 - accuracy: 0.7671 - val_loss: 0.8537 - val_accuracy: 0.8213\n",
            "Epoch 11/50\n",
            "262/262 [==============================] - 11s 41ms/step - loss: 1.0525 - accuracy: 0.7692 - val_loss: 0.8434 - val_accuracy: 0.8282\n",
            "Epoch 12/50\n",
            "262/262 [==============================] - 11s 42ms/step - loss: 1.0545 - accuracy: 0.7673 - val_loss: 0.8552 - val_accuracy: 0.8227\n",
            "Epoch 13/50\n",
            "262/262 [==============================] - 11s 42ms/step - loss: 1.0407 - accuracy: 0.7731 - val_loss: 0.8444 - val_accuracy: 0.8265\n",
            "Epoch 14/50\n",
            "262/262 [==============================] - 11s 41ms/step - loss: 1.0342 - accuracy: 0.7741 - val_loss: 0.8464 - val_accuracy: 0.8275\n",
            "Epoch 15/50\n",
            "262/262 [==============================] - 11s 42ms/step - loss: 1.0274 - accuracy: 0.7762 - val_loss: 0.8370 - val_accuracy: 0.8260\n",
            "Epoch 16/50\n",
            "262/262 [==============================] - 11s 41ms/step - loss: 1.0275 - accuracy: 0.7748 - val_loss: 0.8241 - val_accuracy: 0.8311\n",
            "Epoch 17/50\n",
            "262/262 [==============================] - 11s 41ms/step - loss: 1.0185 - accuracy: 0.7786 - val_loss: 0.8241 - val_accuracy: 0.8299\n",
            "Epoch 18/50\n",
            "262/262 [==============================] - 11s 42ms/step - loss: 1.0155 - accuracy: 0.7805 - val_loss: 0.8299 - val_accuracy: 0.8313\n",
            "Epoch 19/50\n",
            "262/262 [==============================] - 11s 42ms/step - loss: 1.0146 - accuracy: 0.7751 - val_loss: 0.8316 - val_accuracy: 0.8296\n",
            "Epoch 20/50\n",
            "262/262 [==============================] - 11s 42ms/step - loss: 1.0162 - accuracy: 0.7774 - val_loss: 0.8358 - val_accuracy: 0.8263\n",
            "Epoch 21/50\n",
            "262/262 [==============================] - 11s 42ms/step - loss: 0.9993 - accuracy: 0.7833 - val_loss: 0.8250 - val_accuracy: 0.8315\n",
            "Epoch 22/50\n",
            "262/262 [==============================] - 11s 42ms/step - loss: 1.0024 - accuracy: 0.7775 - val_loss: 0.8224 - val_accuracy: 0.8315\n",
            "Epoch 23/50\n",
            "262/262 [==============================] - 11s 43ms/step - loss: 0.9906 - accuracy: 0.7855 - val_loss: 0.8097 - val_accuracy: 0.8361\n",
            "Epoch 24/50\n",
            "262/262 [==============================] - 11s 42ms/step - loss: 0.9928 - accuracy: 0.7843 - val_loss: 0.8102 - val_accuracy: 0.8313\n",
            "Epoch 25/50\n",
            "262/262 [==============================] - 11s 42ms/step - loss: 0.9753 - accuracy: 0.7866 - val_loss: 0.8094 - val_accuracy: 0.8294\n",
            "Epoch 26/50\n",
            "262/262 [==============================] - 11s 42ms/step - loss: 0.9910 - accuracy: 0.7811 - val_loss: 0.8045 - val_accuracy: 0.8325\n",
            "Epoch 27/50\n",
            "262/262 [==============================] - 11s 42ms/step - loss: 0.9825 - accuracy: 0.7857 - val_loss: 0.8096 - val_accuracy: 0.8320\n",
            "Epoch 28/50\n",
            "262/262 [==============================] - 11s 42ms/step - loss: 0.9609 - accuracy: 0.7883 - val_loss: 0.8020 - val_accuracy: 0.8339\n",
            "Epoch 29/50\n",
            "262/262 [==============================] - 11s 42ms/step - loss: 0.9766 - accuracy: 0.7869 - val_loss: 0.7962 - val_accuracy: 0.8342\n",
            "Epoch 30/50\n",
            "262/262 [==============================] - 11s 42ms/step - loss: 0.9528 - accuracy: 0.7946 - val_loss: 0.7916 - val_accuracy: 0.8382\n",
            "Epoch 31/50\n",
            "262/262 [==============================] - 11s 42ms/step - loss: 0.9540 - accuracy: 0.7896 - val_loss: 0.8015 - val_accuracy: 0.8330\n",
            "Epoch 32/50\n",
            "262/262 [==============================] - 11s 42ms/step - loss: 0.9407 - accuracy: 0.7955 - val_loss: 0.7811 - val_accuracy: 0.8394\n",
            "Epoch 33/50\n",
            "262/262 [==============================] - 11s 43ms/step - loss: 0.9528 - accuracy: 0.7944 - val_loss: 0.7825 - val_accuracy: 0.8356\n",
            "Epoch 34/50\n",
            "262/262 [==============================] - 11s 42ms/step - loss: 0.9426 - accuracy: 0.7926 - val_loss: 0.7850 - val_accuracy: 0.8366\n",
            "Epoch 35/50\n",
            "262/262 [==============================] - 11s 43ms/step - loss: 0.9344 - accuracy: 0.7972 - val_loss: 0.7861 - val_accuracy: 0.8387\n",
            "Epoch 36/50\n",
            "262/262 [==============================] - 11s 42ms/step - loss: 0.9186 - accuracy: 0.8039 - val_loss: 0.7752 - val_accuracy: 0.8435\n",
            "Epoch 37/50\n",
            "262/262 [==============================] - 11s 42ms/step - loss: 0.9424 - accuracy: 0.7957 - val_loss: 0.7911 - val_accuracy: 0.8380\n",
            "Epoch 38/50\n",
            "262/262 [==============================] - 11s 42ms/step - loss: 0.9138 - accuracy: 0.8048 - val_loss: 0.7761 - val_accuracy: 0.8421\n",
            "Epoch 39/50\n",
            "262/262 [==============================] - 11s 42ms/step - loss: 0.9138 - accuracy: 0.8008 - val_loss: 0.7612 - val_accuracy: 0.8435\n",
            "Epoch 40/50\n",
            "262/262 [==============================] - 11s 42ms/step - loss: 0.9119 - accuracy: 0.8000 - val_loss: 0.7630 - val_accuracy: 0.8440\n",
            "Epoch 41/50\n",
            "262/262 [==============================] - 11s 42ms/step - loss: 0.8961 - accuracy: 0.8068 - val_loss: 0.7660 - val_accuracy: 0.8411\n",
            "Epoch 42/50\n",
            "262/262 [==============================] - 11s 41ms/step - loss: 0.8981 - accuracy: 0.8064 - val_loss: 0.7672 - val_accuracy: 0.8368\n",
            "Epoch 43/50\n",
            "262/262 [==============================] - 11s 42ms/step - loss: 0.8869 - accuracy: 0.8090 - val_loss: 0.7576 - val_accuracy: 0.8435\n",
            "Epoch 44/50\n",
            "262/262 [==============================] - 11s 41ms/step - loss: 0.8841 - accuracy: 0.8082 - val_loss: 0.7545 - val_accuracy: 0.8461\n",
            "Epoch 45/50\n",
            "262/262 [==============================] - 11s 41ms/step - loss: 0.8873 - accuracy: 0.8059 - val_loss: 0.7618 - val_accuracy: 0.8461\n",
            "Epoch 46/50\n",
            "262/262 [==============================] - 11s 41ms/step - loss: 0.8814 - accuracy: 0.8097 - val_loss: 0.7546 - val_accuracy: 0.8430\n",
            "Epoch 47/50\n",
            "262/262 [==============================] - 11s 41ms/step - loss: 0.8814 - accuracy: 0.8088 - val_loss: 0.7471 - val_accuracy: 0.8476\n",
            "Epoch 48/50\n",
            "262/262 [==============================] - 11s 42ms/step - loss: 0.8902 - accuracy: 0.8060 - val_loss: 0.7490 - val_accuracy: 0.8476\n",
            "Epoch 49/50\n",
            "262/262 [==============================] - 11s 41ms/step - loss: 0.8727 - accuracy: 0.8108 - val_loss: 0.7408 - val_accuracy: 0.8464\n",
            "Epoch 50/50\n",
            "262/262 [==============================] - 11s 41ms/step - loss: 0.8661 - accuracy: 0.8134 - val_loss: 0.7450 - val_accuracy: 0.8447\n"
          ]
        }
      ]
    },
    {
      "cell_type": "code",
      "source": [
        "plt.figure(figsize=(16, 6))\n",
        "\n",
        "plt.subplot(1, 2, 1)\n",
        "plt.plot(history.history['loss'])\n",
        "plt.plot(history.history['val_loss'])\n",
        "plt.xlabel('Epoch')\n",
        "plt.ylabel('Loss')\n",
        "plt.legend(['Training', 'Validation'])\n",
        "plt.title('Loss')\n",
        "\n",
        "plt.subplot(1, 2, 2)\n",
        "plt.plot(history.history['accuracy'])\n",
        "plt.plot(history.history['val_accuracy'])\n",
        "plt.xlabel('Epoch')\n",
        "plt.ylabel('Accuracy')\n",
        "plt.legend(['Training', 'Validation'])\n",
        "plt.title('Accuracy')"
      ],
      "metadata": {
        "colab": {
          "base_uri": "https://localhost:8080/",
          "height": 383
        },
        "id": "o7ScyVutuHZP",
        "outputId": "9c09aa16-cabb-4e37-9962-59460882e833"
      },
      "execution_count": 89,
      "outputs": [
        {
          "output_type": "execute_result",
          "data": {
            "text/plain": [
              "Text(0.5, 1.0, 'Accuracy')"
            ]
          },
          "metadata": {},
          "execution_count": 89
        },
        {
          "output_type": "display_data",
          "data": {
            "text/plain": [
              "<Figure size 1152x432 with 2 Axes>"
            ],
            "image/png": "[encoded data removed]"
          },
          "metadata": {
            "needs_background": "light"
          }
        }
      ]
    },
    {
      "cell_type": "code",
      "source": [
        "id = 100\n",
        "print('shape',imgs[id].shape)\n",
        "#print(data_df.iloc[id])\n",
        "expected_class = data_df.iloc[id]['Class']\n",
        "print('expected class:',expected_class)\n",
        "cv2_imshow(imgs[id])"
      ],
      "metadata": {
        "id": "D5jFGQYvEfSU",
        "outputId": "fa627447-b278-4b44-b9c3-2a8279ef8330",
        "colab": {
          "base_uri": "https://localhost:8080/",
          "height": 116
        }
      },
      "execution_count": 90,
      "outputs": [
        {
          "output_type": "stream",
          "name": "stdout",
          "text": [
            "shape (64, 64, 3)\n",
            "expected class: 189\n"
          ]
        },
        {
          "output_type": "display_data",
          "data": {
            "text/plain": [
              "<PIL.Image.Image image mode=RGB size=64x64 at 0x7EFC1758B370>"
            ],
            "image/png": "[encoded data removed]"
          },
          "metadata": {}
        }
      ]
    },
    {
      "cell_type": "code",
      "source": [
        "model.predict(np.array([imgs[id]])).argmax()"
      ],
      "metadata": {
        "id": "wBfRl77tEXYJ",
        "outputId": "54a73c76-cb1f-410a-860f-bc582a6f3842",
        "colab": {
          "base_uri": "https://localhost:8080/"
        }
      },
      "execution_count": 91,
      "outputs": [
        {
          "output_type": "stream",
          "name": "stdout",
          "text": [
            "1/1 [==============================] - 0s 139ms/step\n"
          ]
        },
        {
          "output_type": "execute_result",
          "data": {
            "text/plain": [
              "189"
            ]
          },
          "metadata": {},
          "execution_count": 91
        }
      ]
    },
    {
      "cell_type": "code",
      "source": [
        "model.save('lenet_model3')"
      ],
      "metadata": {
        "id": "EGih62YCwpxW",
        "outputId": "0fdbbc49-6307-4479-ac76-f0be727ca8b0",
        "colab": {
          "base_uri": "https://localhost:8080/"
        }
      },
      "execution_count": 92,
      "outputs": [
        {
          "output_type": "stream",
          "name": "stderr",
          "text": [
            "WARNING:absl:Found untraced functions such as _jit_compiled_convolution_op, _jit_compiled_convolution_op, _jit_compiled_convolution_op, _jit_compiled_convolution_op while saving (showing 4 of 4). These functions will not be directly callable after loading.\n"
          ]
        }
      ]
    },
    {
      "cell_type": "code",
      "source": [
        "!zip -r /content/lenet_model3.zip /content/lenet_model3"
      ],
      "metadata": {
        "id": "0UJBtaQYfXzD",
        "outputId": "e286f028-d546-4994-c61d-d9a5925fbcba",
        "colab": {
          "base_uri": "https://localhost:8080/"
        }
      },
      "execution_count": 93,
      "outputs": [
        {
          "output_type": "stream",
          "name": "stdout",
          "text": [
            "  adding: content/lenet_model3/ (stored 0%)\n",
            "  adding: content/lenet_model3/assets/ (stored 0%)\n",
            "  adding: content/lenet_model3/saved_model.pb (deflated 90%)\n",
            "  adding: content/lenet_model3/keras_metadata.pb (deflated 93%)\n",
            "  adding: content/lenet_model3/variables/ (stored 0%)\n",
            "  adding: content/lenet_model3/variables/variables.index (deflated 73%)\n",
            "  adding: content/lenet_model3/variables/variables.data-00000-of-00001 (deflated 9%)\n"
          ]
        }
      ]
    },
    {
      "cell_type": "code",
      "execution_count": null,
      "metadata": {
        "id": "TWxmHU1WmZBF",
        "outputId": "5439140a-f502-44a3-8b0c-ce3837ecbee3",
        "colab": {
          "base_uri": "https://localhost:8080/"
        }
      },
      "outputs": [
        {
          "output_type": "stream",
          "name": "stdout",
          "text": [
            "  adding: lenet_model/ (stored 0%)\n",
            "  adding: lenet_model/assets/ (stored 0%)\n",
            "  adding: lenet_model/variables/ (stored 0%)\n",
            "  adding: lenet_model/variables/variables.index (deflated 73%)\n",
            "  adding: lenet_model/variables/variables.data-00000-of-00001 (deflated 9%)\n",
            "  adding: lenet_model/keras_metadata.pb (deflated 93%)\n",
            "  adding: lenet_model/saved_model.pb (deflated 89%)\n"
          ]
        }
      ],
      "source": [
        "!zip -r lenet_model.zip lenet_model"
      ]
    },
    {
      "cell_type": "code",
      "source": [
        "keras.models.load_model(\"lenet_model\")\n",
        "model.predict(np.array([imgs[id]])).argmax()"
      ],
      "metadata": {
        "id": "XIbbr8s1w5I0",
        "outputId": "f1e8c29b-0ed8-411e-9f77-6ebc3a93cf6d",
        "colab": {
          "base_uri": "https://localhost:8080/"
        }
      },
      "execution_count": null,
      "outputs": [
        {
          "output_type": "stream",
          "name": "stdout",
          "text": [
            "1/1 [==============================] - 0s 16ms/step\n"
          ]
        },
        {
          "output_type": "execute_result",
          "data": {
            "text/plain": [
              "27"
            ]
          },
          "metadata": {},
          "execution_count": 33
        }
      ]
    },
    {
      "cell_type": "code",
      "execution_count": null,
      "metadata": {
        "id": "eC5jMWGPmad8",
        "outputId": "93e08787-d54c-4c0d-c613-57a9343e25ac",
        "colab": {
          "base_uri": "https://localhost:8080/"
        }
      },
      "outputs": [
        {
          "output_type": "stream",
          "name": "stdout",
          "text": [
            "-rw-r--r-- 1 root root 33625732 Nov 25 19:26 lenet_model.zip\n"
          ]
        }
      ],
      "source": [
        "# test model\n",
        "!ls -l lenet_model.zip"
      ]
    },
    {
      "cell_type": "code",
      "source": [],
      "metadata": {
        "id": "xwtscIGGHzy4"
      },
      "execution_count": null,
      "outputs": []
    }
  ],
  "metadata": {
    "colab": {
      "provenance": [],
      "include_colab_link": true
    },
    "kernelspec": {
      "display_name": "Python 3",
      "name": "python3"
    },
    "language_info": {
      "name": "python"
    },
    "accelerator": "GPU",
    "gpuClass": "standard"
  },
  "nbformat": 4,
  "nbformat_minor": 0
}
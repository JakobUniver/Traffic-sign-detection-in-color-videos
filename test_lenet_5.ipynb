{
  "cells": [
    {
      "cell_type": "markdown",
      "metadata": {
        "id": "view-in-github",
        "colab_type": "text"
      },
      "source": [
        "<a href=\"https://colab.research.google.com/github/JakobUniver/Traffic-sign-detection-in-color-videos/blob/main/test_lenet_5.ipynb\" target=\"_parent\"><img src=\"https://colab.research.google.com/assets/colab-badge.svg\" alt=\"Open In Colab\"/></a>"
      ]
    },
    {
      "cell_type": "code",
      "execution_count": 2,
      "metadata": {
        "id": "Qrr0tnK8lwUi"
      },
      "outputs": [],
      "source": [
        "import numpy as np\n",
        "import pandas as pd\n",
        "import matplotlib.pyplot as plt\n",
        "%matplotlib inline\n",
        "import cv2\n",
        "from google.colab.patches import cv2_imshow"
      ]
    },
    {
      "cell_type": "code",
      "source": [
        "!ls"
      ],
      "metadata": {
        "id": "1Xy4rg-5_zG4",
        "outputId": "c2033c48-12b8-48fe-c1b8-99677403c3c4",
        "colab": {
          "base_uri": "https://localhost:8080/"
        }
      },
      "execution_count": 6,
      "outputs": [
        {
          "output_type": "stream",
          "name": "stdout",
          "text": [
            "README.dataset.txt   test\t\t\t\t       valid\n",
            "README.roboflow.txt  Traffi_and_Road_Signs_v1i_multiclass.zip\n",
            "sample_data\t     train\n"
          ]
        }
      ]
    },
    {
      "cell_type": "code",
      "source": [
        "!unzip -q ./Traffi_and_Road_Signs_v1i_multiclass.zip"
      ],
      "metadata": {
        "id": "3QAYcxG8FHO9"
      },
      "execution_count": 5,
      "outputs": []
    },
    {
      "cell_type": "code",
      "execution_count": 7,
      "metadata": {
        "id": "-m6TdKk9mFS8",
        "outputId": "810d4950-6986-4b0b-f73d-8d36efbeb6c6",
        "colab": {
          "base_uri": "https://localhost:8080/"
        }
      },
      "outputs": [
        {
          "output_type": "execute_result",
          "data": {
            "text/plain": [
              "(7092, 30)"
            ]
          },
          "metadata": {},
          "execution_count": 7
        }
      ],
      "source": [
        "data_df = pd.read_csv(\"train/_classes.csv\")\n",
        "data_df.shape"
      ]
    },
    {
      "cell_type": "code",
      "source": [
        "num_classes = len(data_df.columns)-1\n",
        "num_classes"
      ],
      "metadata": {
        "colab": {
          "base_uri": "https://localhost:8080/"
        },
        "id": "Msr_MHk6CPo8",
        "outputId": "8865d575-42a1-4a8e-92e9-eb39a3758e26"
      },
      "execution_count": 8,
      "outputs": [
        {
          "output_type": "execute_result",
          "data": {
            "text/plain": [
              "29"
            ]
          },
          "metadata": {},
          "execution_count": 8
        }
      ]
    },
    {
      "cell_type": "code",
      "source": [
        "imgs_org = data_df.apply(lambda row: cv2.imread('/content/train/'+row['filename']), axis=1)"
      ],
      "metadata": {
        "id": "DkCQ79GpDIX6"
      },
      "execution_count": 9,
      "outputs": []
    },
    {
      "cell_type": "code",
      "source": [
        "new_shape = (64,64)\n",
        "imgs = imgs_org.apply((lambda img: cv2.resize(img, new_shape, interpolation=cv2.INTER_AREA)))\n",
        "imgs = imgs.apply((lambda img: cv2.cvtColor(img, cv2.COLOR_BGR2GRAY)))"
      ],
      "metadata": {
        "id": "-J8by7qxabYF"
      },
      "execution_count": 10,
      "outputs": []
    },
    {
      "cell_type": "code",
      "source": [
        "imgs = np.array(list(imgs))"
      ],
      "metadata": {
        "id": "Kh_6Xou4e-SB"
      },
      "execution_count": 11,
      "outputs": []
    },
    {
      "cell_type": "code",
      "source": [
        "id = 7000\n",
        "print(data_df.iloc[id])\n",
        "cv2_imshow(imgs[id])"
      ],
      "metadata": {
        "id": "PlRxqSH_BjVq",
        "outputId": "944ba996-1632-4cc4-de39-2356a87c407a",
        "colab": {
          "base_uri": "https://localhost:8080/",
          "height": 619
        }
      },
      "execution_count": 12,
      "outputs": [
        {
          "output_type": "stream",
          "name": "stdout",
          "text": [
            "filename                                00033_00002_00001_png_jpg.rf.b974e1342a26f2404...\n",
            " -Road narrows on right                                                                 0\n",
            " 50 mph speed limit                                                                     0\n",
            " Attention Please-                                                                      0\n",
            " Beware of children                                                                     0\n",
            " CYCLE ROUTE AHEAD WARNING                                                              0\n",
            " Dangerous Left Curve Ahead                                                             0\n",
            " Dangerous Rright Curve Ahead                                                           0\n",
            " End of all speed and passing limits                                                    0\n",
            " Give Way                                                                               0\n",
            " Go Straight or Turn Right                                                              0\n",
            " Go straight or turn left                                                               0\n",
            " Keep-Left                                                                              0\n",
            " Keep-Right                                                                             0\n",
            " Left Zig Zag Traffic                                                                   0\n",
            " No Entry                                                                               0\n",
            " No_Over_Taking                                                                         0\n",
            " Overtaking by trucks is prohibited                                                     0\n",
            " Pedestrian Crossing                                                                    0\n",
            " Round-About                                                                            0\n",
            " Slippery Road Ahead                                                                    0\n",
            " Speed Limit 20 KMPh                                                                    0\n",
            " Speed Limit 30 KMPh                                                                    0\n",
            " Stop_Sign                                                                              0\n",
            " Straight Ahead Only                                                                    0\n",
            " Traffic_signal                                                                         0\n",
            " Truck traffic is prohibited                                                            0\n",
            " Turn left ahead                                                                        0\n",
            " Turn right ahead                                                                       1\n",
            " Uneven Road                                                                            0\n",
            "Name: 7000, dtype: object\n"
          ]
        },
        {
          "output_type": "display_data",
          "data": {
            "text/plain": [
              "<PIL.Image.Image image mode=L size=64x64 at 0x7FD6CC9F1850>"
            ],
            "image/png": "[encoded data removed]"
          },
          "metadata": {}
        }
      ]
    },
    {
      "cell_type": "code",
      "source": [
        "#mu = imgs.mean(axis=(0)) # finds mean of R, G and B separately\n",
        "#std = imgs.std(axis=(0)) # same for std\n",
        "#X_norm = (imgs - mu)/std\n",
        "#print(mu, std)"
      ],
      "metadata": {
        "id": "bYzK_aKXC_nE"
      },
      "execution_count": 13,
      "outputs": []
    },
    {
      "cell_type": "code",
      "source": [
        "#X_norm.shape"
      ],
      "metadata": {
        "id": "a1vmfJtBadt0"
      },
      "execution_count": 14,
      "outputs": []
    },
    {
      "cell_type": "code",
      "source": [
        "img_shape = imgs[0].shape\n",
        "img_shape"
      ],
      "metadata": {
        "colab": {
          "base_uri": "https://localhost:8080/"
        },
        "id": "EkcAfCf3ZRdS",
        "outputId": "28c456e3-a4b0-4d2d-f278-f9f93c956c4a"
      },
      "execution_count": 15,
      "outputs": [
        {
          "output_type": "execute_result",
          "data": {
            "text/plain": [
              "(64, 64)"
            ]
          },
          "metadata": {},
          "execution_count": 15
        }
      ]
    },
    {
      "cell_type": "code",
      "source": [
        "#y = data_df.apply(lambda row: [np.where(row.values[1:num_classes+1] == 1)[0][0]], axis=1)\n",
        "#y = data_df.apply(lambda row: np.where(row.values[1:num_classes+1] == 1)[0][0], axis=1)\n",
        "y = data_df.apply(lambda row: row.values[1:num_classes+1], axis=1)\n",
        "#y = np.array(list(y),dtype=bool)"
      ],
      "metadata": {
        "id": "M8uom7hOOakq"
      },
      "execution_count": 19,
      "outputs": []
    },
    {
      "cell_type": "code",
      "source": [
        "y[id]"
      ],
      "metadata": {
        "colab": {
          "base_uri": "https://localhost:8080/"
        },
        "id": "SdTS66hnjV6I",
        "outputId": "591bef95-afcc-44dd-de96-f1a236f35343"
      },
      "execution_count": 20,
      "outputs": [
        {
          "output_type": "execute_result",
          "data": {
            "text/plain": [
              "array([0, 0, 0, 0, 0, 0, 0, 0, 0, 0, 0, 0, 0, 0, 0, 0, 0, 0, 0, 0, 0, 0,\n",
              "       0, 0, 0, 0, 0, 1, 0], dtype=object)"
            ]
          },
          "metadata": {},
          "execution_count": 20
        }
      ]
    },
    {
      "cell_type": "code",
      "source": [
        "y_label = np.array(list([[l.argmax()]for l in y]))\n",
        "y_label.shape"
      ],
      "metadata": {
        "id": "hfR6KL-qN9Yh",
        "outputId": "7b62a8d8-0a48-41af-fa29-6a61ff4d803c",
        "colab": {
          "base_uri": "https://localhost:8080/"
        }
      },
      "execution_count": 21,
      "outputs": [
        {
          "output_type": "execute_result",
          "data": {
            "text/plain": [
              "(7092, 1)"
            ]
          },
          "metadata": {},
          "execution_count": 21
        }
      ]
    },
    {
      "cell_type": "code",
      "execution_count": 22,
      "metadata": {
        "id": "aHCDsX8lnWbk"
      },
      "outputs": [],
      "source": [
        "import keras\n",
        "from tensorflow.keras.models import Sequential\n",
        "from tensorflow.keras.layers import Dense, Flatten, Conv2D, Dropout, MaxPooling2D\n",
        "from tensorflow.keras.optimizers import Adam\n",
        "from tensorflow.keras.losses import sparse_categorical_crossentropy\n",
        "import tensorflow as tf\n",
        "\n",
        "from tensorflow.keras.models import Model\n",
        "from tensorflow.keras.optimizers import Adam\n",
        "from tensorflow.keras.layers import Input, Conv2D, Activation, Flatten, Dense, MaxPooling2D, BatchNormalization, Dropout,Normalization"
      ]
    },
    {
      "cell_type": "code",
      "source": [
        "normalizer = Normalization()\n",
        "normalizer.adapt(imgs)"
      ],
      "metadata": {
        "id": "JwHVqg7bMFa0"
      },
      "execution_count": 23,
      "outputs": []
    },
    {
      "cell_type": "code",
      "source": [
        "x = Input(shape=(img_shape[0],img_shape[1],3 if len(img_shape) == 3 else 1))\n",
        "n = normalizer(x)\n",
        "c1 = Conv2D(60, (5, 5), strides=(1, 1), padding=\"same\")(n)\n",
        "b1 = BatchNormalization()(c1)\n",
        "a1 = Activation('tanh')(b1)\n",
        "\n",
        "c2 = Conv2D(60, (5, 5), strides=(1, 1), padding=\"valid\")(a1)\n",
        "b2 = BatchNormalization()(c2)\n",
        "a2 = Activation('tanh')(b2)\n",
        "\n",
        "p3 = MaxPooling2D(pool_size=2)(a2)\n",
        "\n",
        "c4 = Conv2D(30, (5, 5), strides=(1, 1), padding=\"valid\")(p3)\n",
        "b4 = BatchNormalization()(c4)\n",
        "a4 = Activation('tanh')(b4)\n",
        "\n",
        "c5 = Conv2D(30, (5, 5), strides=(1, 1), padding=\"same\")(a4)\n",
        "b5 = BatchNormalization()(c5)\n",
        "a5 = Activation('tanh')(b5)\n",
        "\n",
        "p6 = MaxPooling2D(pool_size=2, padding=\"same\")(a5)\n",
        "d6 = Dropout(rate=0.5)(p6)\n",
        "f6 = Flatten()(d6)\n",
        "\n",
        "h7 = Dense(500)(f6)\n",
        "b7 = BatchNormalization()(h7)\n",
        "a7 = Activation('tanh')(b7)\n",
        "\n",
        "\n",
        "h8 = Dense(500)(a7)\n",
        "b8 = BatchNormalization()(h8)\n",
        "a8 = Activation('softmax')(b8)\n",
        "d8 = Dropout(rate=0.5)(a8)\n",
        "\n",
        "z = Dense(num_classes)(d8)\n",
        "p = Activation('softmax')(z)\n",
        "model = Model(inputs=x, outputs=p)\n",
        "model.compile(loss='sparse_categorical_crossentropy', optimizer=Adam(lr=0.001), metrics=['accuracy'])\n",
        "#model.compile(loss=keras.losses.categorical_crossentropy, optimizer='SGD', metrics=[\"accuracy\"])"
      ],
      "metadata": {
        "id": "3UnSVnIuKtPa",
        "outputId": "934eab8c-e361-443f-fc76-a69be103fb9a",
        "colab": {
          "base_uri": "https://localhost:8080/"
        }
      },
      "execution_count": 24,
      "outputs": [
        {
          "output_type": "stream",
          "name": "stderr",
          "text": [
            "/usr/local/lib/python3.7/dist-packages/keras/optimizers/optimizer_v2/adam.py:110: UserWarning: The `lr` argument is deprecated, use `learning_rate` instead.\n",
            "  super(Adam, self).__init__(name, **kwargs)\n"
          ]
        }
      ]
    },
    {
      "cell_type": "code",
      "source": [
        "model.summary()"
      ],
      "metadata": {
        "id": "UivC630mMRpb",
        "outputId": "33f920c7-5b9c-4e1f-a57c-5e08bc46df3d",
        "colab": {
          "base_uri": "https://localhost:8080/"
        }
      },
      "execution_count": 25,
      "outputs": [
        {
          "output_type": "stream",
          "name": "stdout",
          "text": [
            "Model: \"model\"\n",
            "_________________________________________________________________\n",
            " Layer (type)                Output Shape              Param #   \n",
            "=================================================================\n",
            " input_1 (InputLayer)        [(None, 64, 64, 1)]       0         \n",
            "                                                                 \n",
            " normalization (Normalizatio  (None, 64, 64, 64)       129       \n",
            " n)                                                              \n",
            "                                                                 \n",
            " conv2d (Conv2D)             (None, 64, 64, 60)        96060     \n",
            "                                                                 \n",
            " batch_normalization (BatchN  (None, 64, 64, 60)       240       \n",
            " ormalization)                                                   \n",
            "                                                                 \n",
            " activation (Activation)     (None, 64, 64, 60)        0         \n",
            "                                                                 \n",
            " conv2d_1 (Conv2D)           (None, 60, 60, 60)        90060     \n",
            "                                                                 \n",
            " batch_normalization_1 (Batc  (None, 60, 60, 60)       240       \n",
            " hNormalization)                                                 \n",
            "                                                                 \n",
            " activation_1 (Activation)   (None, 60, 60, 60)        0         \n",
            "                                                                 \n",
            " max_pooling2d (MaxPooling2D  (None, 30, 30, 60)       0         \n",
            " )                                                               \n",
            "                                                                 \n",
            " conv2d_2 (Conv2D)           (None, 26, 26, 30)        45030     \n",
            "                                                                 \n",
            " batch_normalization_2 (Batc  (None, 26, 26, 30)       120       \n",
            " hNormalization)                                                 \n",
            "                                                                 \n",
            " activation_2 (Activation)   (None, 26, 26, 30)        0         \n",
            "                                                                 \n",
            " conv2d_3 (Conv2D)           (None, 26, 26, 30)        22530     \n",
            "                                                                 \n",
            " batch_normalization_3 (Batc  (None, 26, 26, 30)       120       \n",
            " hNormalization)                                                 \n",
            "                                                                 \n",
            " activation_3 (Activation)   (None, 26, 26, 30)        0         \n",
            "                                                                 \n",
            " max_pooling2d_1 (MaxPooling  (None, 13, 13, 30)       0         \n",
            " 2D)                                                             \n",
            "                                                                 \n",
            " dropout (Dropout)           (None, 13, 13, 30)        0         \n",
            "                                                                 \n",
            " flatten (Flatten)           (None, 5070)              0         \n",
            "                                                                 \n",
            " dense (Dense)               (None, 500)               2535500   \n",
            "                                                                 \n",
            " batch_normalization_4 (Batc  (None, 500)              2000      \n",
            " hNormalization)                                                 \n",
            "                                                                 \n",
            " activation_4 (Activation)   (None, 500)               0         \n",
            "                                                                 \n",
            " dense_1 (Dense)             (None, 500)               250500    \n",
            "                                                                 \n",
            " batch_normalization_5 (Batc  (None, 500)              2000      \n",
            " hNormalization)                                                 \n",
            "                                                                 \n",
            " activation_5 (Activation)   (None, 500)               0         \n",
            "                                                                 \n",
            " dropout_1 (Dropout)         (None, 500)               0         \n",
            "                                                                 \n",
            " dense_2 (Dense)             (None, 29)                14529     \n",
            "                                                                 \n",
            " activation_6 (Activation)   (None, 29)                0         \n",
            "                                                                 \n",
            "=================================================================\n",
            "Total params: 3,059,058\n",
            "Trainable params: 3,056,569\n",
            "Non-trainable params: 2,489\n",
            "_________________________________________________________________\n"
          ]
        }
      ]
    },
    {
      "cell_type": "code",
      "source": [
        "history = model.fit(imgs,y_label, batch_size=32, epochs=20, validation_split=0.2)"
      ],
      "metadata": {
        "colab": {
          "base_uri": "https://localhost:8080/"
        },
        "id": "ewGpOHZDTKAr",
        "outputId": "d95b0ef7-cfd6-480d-afa0-033c52794bef"
      },
      "execution_count": 26,
      "outputs": [
        {
          "output_type": "stream",
          "name": "stdout",
          "text": [
            "Epoch 1/20\n",
            "178/178 [==============================] - 16s 33ms/step - loss: 3.2888 - accuracy: 0.4079 - val_loss: 3.1523 - val_accuracy: 0.6378\n",
            "Epoch 2/20\n",
            "178/178 [==============================] - 5s 29ms/step - loss: 3.1194 - accuracy: 0.5572 - val_loss: 2.9107 - val_accuracy: 0.7921\n",
            "Epoch 3/20\n",
            "178/178 [==============================] - 5s 30ms/step - loss: 2.9318 - accuracy: 0.6600 - val_loss: 2.6549 - val_accuracy: 0.8640\n",
            "Epoch 4/20\n",
            "178/178 [==============================] - 6s 31ms/step - loss: 2.7307 - accuracy: 0.7374 - val_loss: 2.4067 - val_accuracy: 0.8922\n",
            "Epoch 5/20\n",
            "178/178 [==============================] - 5s 29ms/step - loss: 2.5156 - accuracy: 0.7772 - val_loss: 2.1244 - val_accuracy: 0.9302\n",
            "Epoch 6/20\n",
            "178/178 [==============================] - 5s 29ms/step - loss: 2.2918 - accuracy: 0.8010 - val_loss: 1.8676 - val_accuracy: 0.9528\n",
            "Epoch 7/20\n",
            "178/178 [==============================] - 5s 30ms/step - loss: 2.0970 - accuracy: 0.8040 - val_loss: 1.6204 - val_accuracy: 0.9641\n",
            "Epoch 8/20\n",
            "178/178 [==============================] - 5s 30ms/step - loss: 1.9316 - accuracy: 0.8206 - val_loss: 1.4133 - val_accuracy: 0.9725\n",
            "Epoch 9/20\n",
            "178/178 [==============================] - 5s 30ms/step - loss: 1.7664 - accuracy: 0.8258 - val_loss: 1.2479 - val_accuracy: 0.9782\n",
            "Epoch 10/20\n",
            "178/178 [==============================] - 5s 29ms/step - loss: 1.6353 - accuracy: 0.8364 - val_loss: 1.1349 - val_accuracy: 0.9774\n",
            "Epoch 11/20\n",
            "178/178 [==============================] - 5s 29ms/step - loss: 1.5211 - accuracy: 0.8560 - val_loss: 0.9831 - val_accuracy: 0.9852\n",
            "Epoch 12/20\n",
            "178/178 [==============================] - 5s 29ms/step - loss: 1.4198 - accuracy: 0.8681 - val_loss: 0.8865 - val_accuracy: 0.9880\n",
            "Epoch 13/20\n",
            "178/178 [==============================] - 5s 29ms/step - loss: 1.3220 - accuracy: 0.8778 - val_loss: 0.7935 - val_accuracy: 0.9852\n",
            "Epoch 14/20\n",
            "178/178 [==============================] - 5s 29ms/step - loss: 1.2470 - accuracy: 0.8830 - val_loss: 0.7254 - val_accuracy: 0.9859\n",
            "Epoch 15/20\n",
            "178/178 [==============================] - 5s 29ms/step - loss: 1.1761 - accuracy: 0.8919 - val_loss: 0.6442 - val_accuracy: 0.9887\n",
            "Epoch 16/20\n",
            "178/178 [==============================] - 5s 30ms/step - loss: 1.1200 - accuracy: 0.8926 - val_loss: 0.5925 - val_accuracy: 0.9880\n",
            "Epoch 17/20\n",
            "178/178 [==============================] - 5s 30ms/step - loss: 1.0558 - accuracy: 0.9030 - val_loss: 0.5395 - val_accuracy: 0.9894\n",
            "Epoch 18/20\n",
            "178/178 [==============================] - 5s 30ms/step - loss: 0.9830 - accuracy: 0.9108 - val_loss: 0.4795 - val_accuracy: 0.9901\n",
            "Epoch 19/20\n",
            "178/178 [==============================] - 5s 30ms/step - loss: 0.9522 - accuracy: 0.9159 - val_loss: 0.4433 - val_accuracy: 0.9901\n",
            "Epoch 20/20\n",
            "178/178 [==============================] - 5s 30ms/step - loss: 0.9239 - accuracy: 0.9180 - val_loss: 0.4051 - val_accuracy: 0.9894\n"
          ]
        }
      ]
    },
    {
      "cell_type": "code",
      "source": [
        "plt.figure(figsize=(16, 6))\n",
        "\n",
        "plt.subplot(1, 2, 1)\n",
        "plt.plot(history.history['loss'])\n",
        "plt.plot(history.history['val_loss'])\n",
        "plt.xlabel('Epoch')\n",
        "plt.ylabel('Loss')\n",
        "plt.legend(['Training', 'Validation'])\n",
        "plt.title('Loss')\n",
        "\n",
        "plt.subplot(1, 2, 2)\n",
        "plt.plot(history.history['accuracy'])\n",
        "plt.plot(history.history['val_accuracy'])\n",
        "plt.xlabel('Epoch')\n",
        "plt.ylabel('Accuracy')\n",
        "plt.legend(['Training', 'Validation'])\n",
        "plt.title('Accuracy')"
      ],
      "metadata": {
        "colab": {
          "base_uri": "https://localhost:8080/",
          "height": 421
        },
        "id": "o7ScyVutuHZP",
        "outputId": "420d6964-9ef4-45dd-f9a8-216c8080f3f9"
      },
      "execution_count": 27,
      "outputs": [
        {
          "output_type": "execute_result",
          "data": {
            "text/plain": [
              "Text(0.5, 1.0, 'Accuracy')"
            ]
          },
          "metadata": {},
          "execution_count": 27
        },
        {
          "output_type": "display_data",
          "data": {
            "text/plain": [
              "<Figure size 1152x432 with 2 Axes>"
            ],
            "image/png": "[encoded data removed]"
          },
          "metadata": {
            "needs_background": "light"
          }
        }
      ]
    },
    {
      "cell_type": "code",
      "source": [
        "print('shape',imgs[id].shape)\n",
        "#print(data_df.iloc[id])\n",
        "expected_class = data_df.iloc[id].values[1:num_classes+1].argmax()\n",
        "print('expected class:',data_df.columns[expected_class+1],'label_id:',expected_class)\n",
        "cv2_imshow(imgs[id])"
      ],
      "metadata": {
        "id": "D5jFGQYvEfSU",
        "outputId": "d0653151-91ce-4308-8df5-5eb52e77aa13",
        "colab": {
          "base_uri": "https://localhost:8080/",
          "height": 116
        }
      },
      "execution_count": 28,
      "outputs": [
        {
          "output_type": "stream",
          "name": "stdout",
          "text": [
            "shape (64, 64)\n",
            "expected class:  Turn right ahead label_id: 27\n"
          ]
        },
        {
          "output_type": "display_data",
          "data": {
            "text/plain": [
              "<PIL.Image.Image image mode=L size=64x64 at 0x7FD5F5DBACD0>"
            ],
            "image/png": "[encoded data removed]"
          },
          "metadata": {}
        }
      ]
    },
    {
      "cell_type": "code",
      "source": [
        "model.predict(np.array([imgs[id]])).argmax()"
      ],
      "metadata": {
        "id": "wBfRl77tEXYJ",
        "outputId": "252a387b-7d07-4c21-e5d4-107d11d0e73f",
        "colab": {
          "base_uri": "https://localhost:8080/"
        }
      },
      "execution_count": 29,
      "outputs": [
        {
          "output_type": "stream",
          "name": "stdout",
          "text": [
            "1/1 [==============================] - 1s 574ms/step\n"
          ]
        },
        {
          "output_type": "execute_result",
          "data": {
            "text/plain": [
              "27"
            ]
          },
          "metadata": {},
          "execution_count": 29
        }
      ]
    },
    {
      "cell_type": "code",
      "source": [
        "model.save('lenet_model')\n"
      ],
      "metadata": {
        "id": "EGih62YCwpxW",
        "outputId": "dc67af54-5e2b-450e-f1f7-c396998c156b",
        "colab": {
          "base_uri": "https://localhost:8080/"
        }
      },
      "execution_count": 30,
      "outputs": [
        {
          "output_type": "stream",
          "name": "stderr",
          "text": [
            "WARNING:absl:Found untraced functions such as _jit_compiled_convolution_op, _jit_compiled_convolution_op, _jit_compiled_convolution_op, _jit_compiled_convolution_op while saving (showing 4 of 4). These functions will not be directly callable after loading.\n"
          ]
        }
      ]
    },
    {
      "cell_type": "code",
      "execution_count": 32,
      "metadata": {
        "id": "TWxmHU1WmZBF",
        "outputId": "5439140a-f502-44a3-8b0c-ce3837ecbee3",
        "colab": {
          "base_uri": "https://localhost:8080/"
        }
      },
      "outputs": [
        {
          "output_type": "stream",
          "name": "stdout",
          "text": [
            "  adding: lenet_model/ (stored 0%)\n",
            "  adding: lenet_model/assets/ (stored 0%)\n",
            "  adding: lenet_model/variables/ (stored 0%)\n",
            "  adding: lenet_model/variables/variables.index (deflated 73%)\n",
            "  adding: lenet_model/variables/variables.data-00000-of-00001 (deflated 9%)\n",
            "  adding: lenet_model/keras_metadata.pb (deflated 93%)\n",
            "  adding: lenet_model/saved_model.pb (deflated 89%)\n"
          ]
        }
      ],
      "source": [
        "!zip -r lenet_model.zip lenet_model"
      ]
    },
    {
      "cell_type": "code",
      "source": [
        "keras.models.load_model(\"lenet_model\")\n",
        "model.predict(np.array([imgs[id]])).argmax()"
      ],
      "metadata": {
        "id": "XIbbr8s1w5I0",
        "outputId": "f1e8c29b-0ed8-411e-9f77-6ebc3a93cf6d",
        "colab": {
          "base_uri": "https://localhost:8080/"
        }
      },
      "execution_count": 33,
      "outputs": [
        {
          "output_type": "stream",
          "name": "stdout",
          "text": [
            "1/1 [==============================] - 0s 16ms/step\n"
          ]
        },
        {
          "output_type": "execute_result",
          "data": {
            "text/plain": [
              "27"
            ]
          },
          "metadata": {},
          "execution_count": 33
        }
      ]
    },
    {
      "cell_type": "code",
      "execution_count": 36,
      "metadata": {
        "id": "eC5jMWGPmad8",
        "outputId": "93e08787-d54c-4c0d-c613-57a9343e25ac",
        "colab": {
          "base_uri": "https://localhost:8080/"
        }
      },
      "outputs": [
        {
          "output_type": "stream",
          "name": "stdout",
          "text": [
            "-rw-r--r-- 1 root root 33625732 Nov 25 19:26 lenet_model.zip\n"
          ]
        }
      ],
      "source": [
        "# test model\n",
        "!ls -l lenet_model.zip"
      ]
    },
    {
      "cell_type": "code",
      "source": [],
      "metadata": {
        "id": "xwtscIGGHzy4"
      },
      "execution_count": null,
      "outputs": []
    }
  ],
  "metadata": {
    "colab": {
      "provenance": [],
      "authorship_tag": "ABX9TyMdjg8PeBHXaNdrZdF+NC1+",
      "include_colab_link": true
    },
    "kernelspec": {
      "display_name": "Python 3",
      "name": "python3"
    },
    "language_info": {
      "name": "python"
    },
    "accelerator": "GPU",
    "gpuClass": "standard"
  },
  "nbformat": 4,
  "nbformat_minor": 0
}
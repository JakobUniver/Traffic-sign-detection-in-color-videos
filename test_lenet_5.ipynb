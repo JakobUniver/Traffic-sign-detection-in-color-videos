{
  "cells": [
    {
      "cell_type": "markdown",
      "metadata": {
        "id": "view-in-github",
        "colab_type": "text"
      },
      "source": [
        "<a href=\"https://colab.research.google.com/github/JakobUniver/Traffic-sign-detection-in-color-videos/blob/main/test_lenet_5.ipynb\" target=\"_parent\"><img src=\"https://colab.research.google.com/assets/colab-badge.svg\" alt=\"Open In Colab\"/></a>"
      ]
    },
    {
      "cell_type": "code",
      "execution_count": null,
      "metadata": {
        "id": "Qrr0tnK8lwUi"
      },
      "outputs": [],
      "source": [
        "import numpy as np\n",
        "import pandas as pd\n",
        "import matplotlib.pyplot as plt\n",
        "%matplotlib inline\n",
        "import cv2"
      ]
    },
    {
      "cell_type": "code",
      "source": [
        "!ls"
      ],
      "metadata": {
        "colab": {
          "base_uri": "https://localhost:8080/"
        },
        "id": "sc6mP9CnFZV0",
        "outputId": "5b75db0e-560d-4e4d-9787-a89fa964f7ed"
      },
      "execution_count": null,
      "outputs": [
        {
          "output_type": "stream",
          "name": "stdout",
          "text": [
            "README.dataset.txt   test\t\t\t\t       valid\n",
            "README.roboflow.txt  Traffi_and_Road_Signs_v1i_multiclass.zip\n",
            "sample_data\t     train\n"
          ]
        }
      ]
    },
    {
      "cell_type": "code",
      "source": [
        "!unzip Traffi_and_Road_Signs_v1i_multiclass.zip"
      ],
      "metadata": {
        "colab": {
          "base_uri": "https://localhost:8080/"
        },
        "id": "3QAYcxG8FHO9",
        "outputId": "f90e5d23-fbc2-4025-ef8c-a513ae05c8d7"
      },
      "execution_count": null,
      "outputs": [
        {
          "output_type": "stream",
          "name": "stdout",
          "text": [
            "Archive:  Traffi_and_Road_Signs_v1i_multiclass.zip\n",
            "replace README.dataset.txt? [y]es, [n]o, [A]ll, [N]one, [r]ename: "
          ]
        }
      ]
    },
    {
      "cell_type": "code",
      "execution_count": null,
      "metadata": {
        "id": "-m6TdKk9mFS8"
      },
      "outputs": [],
      "source": [
        "data_df = pd.read_csv(\"train/_classes.csv\")\n",
        "data_df = data_df[:2000]"
      ]
    },
    {
      "cell_type": "code",
      "source": [
        "num_classes = len(data_df.columns)-1\n",
        "num_classes"
      ],
      "metadata": {
        "colab": {
          "base_uri": "https://localhost:8080/"
        },
        "id": "Msr_MHk6CPo8",
        "outputId": "f744f1f6-66ad-41fa-9c71-b36d38eaa0db"
      },
      "execution_count": null,
      "outputs": [
        {
          "output_type": "execute_result",
          "data": {
            "text/plain": [
              "29"
            ]
          },
          "metadata": {},
          "execution_count": 5
        }
      ]
    },
    {
      "cell_type": "code",
      "source": [
        "(lambda row: cv2.resize(cv2.imread('/content/train/'+row['filename'],cv2.IMREAD_GRAYSCALE), (64,64), interpolation = cv2.INTER_AREA))(data_df.iloc[0]).shape"
      ],
      "metadata": {
        "colab": {
          "base_uri": "https://localhost:8080/"
        },
        "id": "1_myqRz1r713",
        "outputId": "c6637c56-f6ce-43d1-d672-2e48bc198e25"
      },
      "execution_count": null,
      "outputs": [
        {
          "output_type": "execute_result",
          "data": {
            "text/plain": [
              "(64, 64)"
            ]
          },
          "metadata": {},
          "execution_count": 6
        }
      ]
    },
    {
      "cell_type": "code",
      "source": [
        "imgs = data_df.apply(lambda row: cv2.imread('/content/train/'+row['filename']), axis=1)\n",
        "imgs = imgs.apply((lambda img: cv2.resize(img, (64,64), interpolation = cv2.INTER_AREA)))\n",
        "#,cv2.IMREAD_GRAYSCALE"
      ],
      "metadata": {
        "id": "-J8by7qxabYF"
      },
      "execution_count": null,
      "outputs": []
    },
    {
      "cell_type": "code",
      "source": [
        "imgs = np.array(list(imgs))"
      ],
      "metadata": {
        "id": "Kh_6Xou4e-SB"
      },
      "execution_count": null,
      "outputs": []
    },
    {
      "cell_type": "code",
      "source": [
        "mu = imgs.mean(axis=(0)) # finds mean of R, G and B separately\n",
        "std = imgs.std(axis=(0)) # same for std\n",
        "X_norm = (imgs - mu)/std\n",
        "print(mu, std)"
      ],
      "metadata": {
        "id": "bYzK_aKXC_nE",
        "colab": {
          "base_uri": "https://localhost:8080/"
        },
        "outputId": "03502c62-82c4-4a08-98c1-b48facfacc49"
      },
      "execution_count": null,
      "outputs": [
        {
          "output_type": "stream",
          "name": "stdout",
          "text": [
            "[[[ 98.084  101.5335 104.1165]\n",
            "  [ 97.591  101.1705 103.629 ]\n",
            "  [ 98.207  101.907  104.274 ]\n",
            "  ...\n",
            "  [100.173  103.8285 106.4665]\n",
            "  [ 99.689  103.286  106.1855]\n",
            "  [ 99.7525 103.1265 106.0655]]\n",
            "\n",
            " [[ 98.181  101.6025 104.08  ]\n",
            "  [ 97.9415 101.4115 103.848 ]\n",
            "  [ 98.4035 102.031  104.364 ]\n",
            "  ...\n",
            "  [100.17   103.9335 106.564 ]\n",
            "  [ 99.694  103.2725 106.135 ]\n",
            "  [ 99.72   103.037  105.781 ]]\n",
            "\n",
            " [[ 98.1015 101.5915 103.8785]\n",
            "  [ 97.7615 101.305  103.5665]\n",
            "  [ 97.81   101.5235 103.8275]\n",
            "  ...\n",
            "  [100.025  103.7785 106.4865]\n",
            "  [ 99.4335 103.0135 105.8105]\n",
            "  [ 99.2115 102.596  105.294 ]]\n",
            "\n",
            " ...\n",
            "\n",
            " [[ 77.963   80.8055  84.3765]\n",
            "  [ 77.6115  80.5415  84.124 ]\n",
            "  [ 77.4715  80.341   84.0515]\n",
            "  ...\n",
            "  [ 80.5805  82.3825  85.2155]\n",
            "  [ 80.15    82.0155  84.8645]\n",
            "  [ 79.891   81.936   84.7775]]\n",
            "\n",
            " [[ 78.0355  80.8195  84.417 ]\n",
            "  [ 77.4415  80.327   83.8275]\n",
            "  [ 77.206   80.0845  83.724 ]\n",
            "  ...\n",
            "  [ 80.086   81.9115  84.8075]\n",
            "  [ 79.7815  81.7225  84.5185]\n",
            "  [ 79.5335  81.5935  84.487 ]]\n",
            "\n",
            " [[ 77.769   80.6065  84.142 ]\n",
            "  [ 77.231   80.122   83.6455]\n",
            "  [ 76.9175  79.762   83.3835]\n",
            "  ...\n",
            "  [ 80.119   82.0705  85.0145]\n",
            "  [ 79.927   81.8585  84.8015]\n",
            "  [ 79.7785  81.699   84.7155]]] [[[81.69057439 81.8588656  81.43370265]\n",
            "  [81.47560199 81.68779242 81.05736462]\n",
            "  [82.00528734 82.3787676  81.64960456]\n",
            "  ...\n",
            "  [84.60723415 83.73337499 82.94987569]\n",
            "  [84.0927897  82.94168556 82.24659318]\n",
            "  [84.24014627 82.87508973 82.2604535 ]]\n",
            "\n",
            " [[81.72415946 81.98378189 81.31494082]\n",
            "  [81.42171134 81.61825266 80.82269419]\n",
            "  [81.86747637 82.24720688 81.27424871]\n",
            "  ...\n",
            "  [84.41968432 83.49580276 82.45897103]\n",
            "  [84.02194573 82.82795569 81.75953018]\n",
            "  [84.25808329 82.820587   81.6663948 ]]\n",
            "\n",
            " [[81.79230525 81.99302792 81.1798481 ]\n",
            "  [81.61029725 81.70640718 80.73338577]\n",
            "  [81.77462259 81.9214224  80.93168566]\n",
            "  ...\n",
            "  [84.29879818 83.32757909 82.25114478]\n",
            "  [84.19799034 83.05967925 81.86121542]\n",
            "  [84.40015858 83.05209681 81.78799768]]\n",
            "\n",
            " ...\n",
            "\n",
            " [[70.16109058 71.27595436 71.9963176 ]\n",
            "  [69.77207585 70.65048675 71.32360496]\n",
            "  [69.80974995 70.61697897 71.48833365]\n",
            "  ...\n",
            "  [72.44134538 71.77555429 71.82198173]\n",
            "  [71.68643177 71.03912485 71.21240861]\n",
            "  [72.14156998 71.24992564 71.2207694 ]]\n",
            "\n",
            " [[69.74475063 70.81062011 71.71189658]\n",
            "  [69.26887885 70.20759981 70.88419954]\n",
            "  [69.4139868  70.15813823 70.87045805]\n",
            "  ...\n",
            "  [72.35258533 71.63403289 71.66242002]\n",
            "  [71.62006533 71.03874643 71.18874671]\n",
            "  [71.84483891 71.00959272 71.20421919]]\n",
            "\n",
            " [[69.64959899 70.71065449 71.54940137]\n",
            "  [69.32684645 70.20815562 70.93446151]\n",
            "  [69.38407378 70.10894633 70.80209339]\n",
            "  ...\n",
            "  [72.5808848  71.84305485 71.91681507]\n",
            "  [72.03369816 71.3525506  71.47838903]\n",
            "  [72.33740691 71.39597607 71.52102879]]]\n"
          ]
        }
      ]
    },
    {
      "cell_type": "code",
      "source": [
        "X_norm.shape"
      ],
      "metadata": {
        "colab": {
          "base_uri": "https://localhost:8080/"
        },
        "id": "a1vmfJtBadt0",
        "outputId": "93732afa-3209-4e39-b50d-114252865a8d"
      },
      "execution_count": null,
      "outputs": [
        {
          "output_type": "execute_result",
          "data": {
            "text/plain": [
              "(2000, 64, 64, 3)"
            ]
          },
          "metadata": {},
          "execution_count": 10
        }
      ]
    },
    {
      "cell_type": "code",
      "source": [
        "img_shape = imgs[0].shape\n",
        "img_shape"
      ],
      "metadata": {
        "colab": {
          "base_uri": "https://localhost:8080/"
        },
        "id": "EkcAfCf3ZRdS",
        "outputId": "526f6b5c-fe09-45c9-81c4-cda1cdad7fb9"
      },
      "execution_count": null,
      "outputs": [
        {
          "output_type": "execute_result",
          "data": {
            "text/plain": [
              "(64, 64, 3)"
            ]
          },
          "metadata": {},
          "execution_count": 11
        }
      ]
    },
    {
      "cell_type": "code",
      "source": [
        "#y = data_df.apply(lambda row: [np.where(row.values[1:num_classes+1] == 1)[0][0]], axis=1)\n",
        "#y = data_df.apply(lambda row: np.where(row.values[1:num_classes+1] == 1)[0][0], axis=1)\n",
        "y = data_df.apply(lambda row: row.values[1:num_classes+1], axis=1)"
      ],
      "metadata": {
        "id": "M8uom7hOOakq"
      },
      "execution_count": null,
      "outputs": []
    },
    {
      "cell_type": "code",
      "source": [
        "y = np.array(list(y),dtype=bool)"
      ],
      "metadata": {
        "id": "uMtB5brRjxix"
      },
      "execution_count": null,
      "outputs": []
    },
    {
      "cell_type": "code",
      "source": [
        "y"
      ],
      "metadata": {
        "colab": {
          "base_uri": "https://localhost:8080/"
        },
        "id": "SdTS66hnjV6I",
        "outputId": "a3f7e4e0-8b71-4d58-ce4f-280e5027d5f4"
      },
      "execution_count": null,
      "outputs": [
        {
          "output_type": "execute_result",
          "data": {
            "text/plain": [
              "array([[False, False,  True, ..., False, False, False],\n",
              "       [False, False, False, ..., False, False, False],\n",
              "       [False, False, False, ..., False, False, False],\n",
              "       ...,\n",
              "       [False, False, False, ..., False, False, False],\n",
              "       [False, False, False, ..., False, False, False],\n",
              "       [False, False,  True, ..., False, False, False]])"
            ]
          },
          "metadata": {},
          "execution_count": 14
        }
      ]
    },
    {
      "cell_type": "code",
      "execution_count": null,
      "metadata": {
        "id": "aHCDsX8lnWbk"
      },
      "outputs": [],
      "source": [
        "import keras\n",
        "from tensorflow.keras.models import Sequential\n",
        "from tensorflow.keras.layers import Dense, Flatten, Conv2D, Dropout, MaxPooling2D\n",
        "from tensorflow.keras.optimizers import Adam\n",
        "from tensorflow.keras.losses import sparse_categorical_crossentropy\n",
        "import tensorflow as tf"
      ]
    },
    {
      "cell_type": "code",
      "source": [
        "#a = tf.keras.utils.to_categorical(y)"
      ],
      "metadata": {
        "id": "ZsU_eRcDnr5o"
      },
      "execution_count": null,
      "outputs": []
    },
    {
      "cell_type": "code",
      "execution_count": null,
      "metadata": {
        "id": "5PV0XTJLq4Ns"
      },
      "outputs": [],
      "source": [
        "from keras.models import Sequential\n",
        "from keras import models, layers\n",
        "import keras\n",
        "#Instantiate an empty model\n",
        "model = Sequential()\n",
        "\n",
        "model.add(layers.Conv2D(60, kernel_size=(5, 5), strides=(1, 1), activation='tanh', input_shape=(img_shape[0],img_shape[1],3 if len(img_shape) == 3 else 1), padding=\"same\"))\n",
        "\n",
        "model.add(layers.Conv2D(60, kernel_size=(5, 5), strides=(1, 1), activation='tanh', padding=\"valid\"))\n",
        "\n",
        "model.add(MaxPooling2D(pool_size =(2, 2), strides =(2, 2)))\n",
        "\n",
        "model.add(layers.Conv2D(30, kernel_size=(5, 5), strides=(1, 1), activation='tanh', padding=\"valid\"))\n",
        "\n",
        "model.add(layers.Conv2D(30, kernel_size=(5, 5), strides=(1, 1), activation='tanh', padding=\"same\"))\n",
        "\n",
        "\n",
        "model.add(MaxPooling2D(pool_size =(2, 2), strides =(2, 2),padding='same'))\n",
        "model.add(Dropout(0.5))\n",
        "\n",
        "model.add(layers.Flatten())\n",
        "\n",
        "model.add(layers.Dense(500, activation='tanh'))\n",
        "\n",
        "model.add(layers.Dense(500, activation='softmax'))\n",
        "model.add(Dropout(0.5))\n",
        "\n",
        "model.add(layers.Dense(num_classes, activation='softmax'))\n",
        "\n",
        "# Compile the model\n",
        "model.compile(loss=keras.losses.categorical_crossentropy, optimizer='SGD', metrics=[\"accuracy\"])"
      ]
    },
    {
      "cell_type": "code",
      "source": [
        "model.summary()"
      ],
      "metadata": {
        "colab": {
          "base_uri": "https://localhost:8080/"
        },
        "id": "miSy09g6vq-m",
        "outputId": "93b97cbe-777f-427e-994b-3ea0495122bc"
      },
      "execution_count": null,
      "outputs": [
        {
          "output_type": "stream",
          "name": "stdout",
          "text": [
            "Model: \"sequential\"\n",
            "_________________________________________________________________\n",
            " Layer (type)                Output Shape              Param #   \n",
            "=================================================================\n",
            " conv2d (Conv2D)             (None, 64, 64, 60)        4560      \n",
            "                                                                 \n",
            " conv2d_1 (Conv2D)           (None, 60, 60, 60)        90060     \n",
            "                                                                 \n",
            " max_pooling2d (MaxPooling2D  (None, 30, 30, 60)       0         \n",
            " )                                                               \n",
            "                                                                 \n",
            " conv2d_2 (Conv2D)           (None, 26, 26, 30)        45030     \n",
            "                                                                 \n",
            " conv2d_3 (Conv2D)           (None, 26, 26, 30)        22530     \n",
            "                                                                 \n",
            " max_pooling2d_1 (MaxPooling  (None, 13, 13, 30)       0         \n",
            " 2D)                                                             \n",
            "                                                                 \n",
            " dropout (Dropout)           (None, 13, 13, 30)        0         \n",
            "                                                                 \n",
            " flatten (Flatten)           (None, 5070)              0         \n",
            "                                                                 \n",
            " dense (Dense)               (None, 500)               2535500   \n",
            "                                                                 \n",
            " dense_1 (Dense)             (None, 500)               250500    \n",
            "                                                                 \n",
            " dropout_1 (Dropout)         (None, 500)               0         \n",
            "                                                                 \n",
            " dense_2 (Dense)             (None, 29)                14529     \n",
            "                                                                 \n",
            "=================================================================\n",
            "Total params: 2,962,709\n",
            "Trainable params: 2,962,709\n",
            "Non-trainable params: 0\n",
            "_________________________________________________________________\n"
          ]
        }
      ]
    },
    {
      "cell_type": "code",
      "source": [
        "#downgraded model\n",
        "from keras.models import Sequential\n",
        "from keras import models, layers\n",
        "import keras\n",
        "#Instantiate an empty model\n",
        "model = Sequential()\n",
        "\n",
        "model.add(layers.Conv2D(30, kernel_size=(5, 5), strides=(1, 1), activation='tanh', input_shape=(img_shape[0],img_shape[1],3 if len(img_shape) == 3 else 1), padding=\"same\"))\n",
        "\n",
        "model.add(layers.Conv2D(15, kernel_size=(5, 5), strides=(1, 1), activation='tanh', padding=\"valid\"))\n",
        "\n",
        "model.add(MaxPooling2D(pool_size =(2, 2), strides =(2, 2)))\n",
        "\n",
        "model.add(layers.Conv2D(10, kernel_size=(5, 5), strides=(1, 1), activation='tanh', padding=\"valid\"))\n",
        "\n",
        "model.add(layers.Conv2D(5, kernel_size=(5, 5), strides=(1, 1), activation='tanh', padding=\"same\"))\n",
        "\n",
        "\n",
        "model.add(MaxPooling2D(pool_size =(2, 2), strides =(2, 2),padding='same'))\n",
        "model.add(Dropout(0.5))\n",
        "\n",
        "model.add(layers.Flatten())\n",
        "\n",
        "model.add(layers.Dense(100, activation='tanh'))\n",
        "\n",
        "model.add(layers.Dense(100, activation='softmax'))\n",
        "model.add(Dropout(0.5))\n",
        "\n",
        "model.add(layers.Dense(num_classes, activation='softmax'))\n",
        "\n",
        "# Compile the model\n",
        "model.compile(loss=keras.losses.categorical_crossentropy, optimizer='SGD', metrics=[\"accuracy\"])"
      ],
      "metadata": {
        "id": "vOUtwo3EqdNP"
      },
      "execution_count": null,
      "outputs": []
    },
    {
      "cell_type": "code",
      "execution_count": null,
      "metadata": {
        "colab": {
          "base_uri": "https://localhost:8080/"
        },
        "id": "ELsdbNABqAfj",
        "outputId": "a056e2c0-c482-4aa0-cdf2-b31a011cf0fd"
      },
      "outputs": [
        {
          "output_type": "stream",
          "name": "stdout",
          "text": [
            "Model: \"sequential_1\"\n",
            "_________________________________________________________________\n",
            " Layer (type)                Output Shape              Param #   \n",
            "=================================================================\n",
            " conv2d_4 (Conv2D)           (None, 64, 64, 30)        2280      \n",
            "                                                                 \n",
            " conv2d_5 (Conv2D)           (None, 60, 60, 15)        11265     \n",
            "                                                                 \n",
            " max_pooling2d_2 (MaxPooling  (None, 30, 30, 15)       0         \n",
            " 2D)                                                             \n",
            "                                                                 \n",
            " conv2d_6 (Conv2D)           (None, 26, 26, 10)        3760      \n",
            "                                                                 \n",
            " conv2d_7 (Conv2D)           (None, 26, 26, 5)         1255      \n",
            "                                                                 \n",
            " max_pooling2d_3 (MaxPooling  (None, 13, 13, 5)        0         \n",
            " 2D)                                                             \n",
            "                                                                 \n",
            " dropout_2 (Dropout)         (None, 13, 13, 5)         0         \n",
            "                                                                 \n",
            " flatten_1 (Flatten)         (None, 845)               0         \n",
            "                                                                 \n",
            " dense_3 (Dense)             (None, 100)               84600     \n",
            "                                                                 \n",
            " dense_4 (Dense)             (None, 100)               10100     \n",
            "                                                                 \n",
            " dropout_3 (Dropout)         (None, 100)               0         \n",
            "                                                                 \n",
            " dense_5 (Dense)             (None, 29)                2929      \n",
            "                                                                 \n",
            "=================================================================\n",
            "Total params: 116,189\n",
            "Trainable params: 116,189\n",
            "Non-trainable params: 0\n",
            "_________________________________________________________________\n"
          ]
        }
      ],
      "source": [
        "model.summary()"
      ]
    },
    {
      "cell_type": "code",
      "source": [
        "history = model.fit(X_norm,y, batch_size=64, epochs=20, validation_split=0.2)"
      ],
      "metadata": {
        "colab": {
          "base_uri": "https://localhost:8080/"
        },
        "id": "ewGpOHZDTKAr",
        "outputId": "628b5817-575d-48e4-f0ca-3576e5ea282e"
      },
      "execution_count": null,
      "outputs": [
        {
          "output_type": "stream",
          "name": "stdout",
          "text": [
            "Epoch 1/20\n",
            "25/25 [==============================] - 44s 2s/step - loss: 3.3652 - accuracy: 0.0512 - val_loss: 3.3650 - val_accuracy: 0.0350\n",
            "Epoch 2/20\n",
            "25/25 [==============================] - 44s 2s/step - loss: 3.3636 - accuracy: 0.0400 - val_loss: 3.3628 - val_accuracy: 0.0350\n",
            "Epoch 3/20\n",
            "25/25 [==============================] - 43s 2s/step - loss: 3.3610 - accuracy: 0.0487 - val_loss: 3.3606 - val_accuracy: 0.0350\n",
            "Epoch 4/20\n",
            "25/25 [==============================] - 43s 2s/step - loss: 3.3582 - accuracy: 0.0487 - val_loss: 3.3585 - val_accuracy: 0.0350\n",
            "Epoch 5/20\n",
            "25/25 [==============================] - 43s 2s/step - loss: 3.3558 - accuracy: 0.0594 - val_loss: 3.3564 - val_accuracy: 0.0300\n",
            "Epoch 6/20\n",
            "25/25 [==============================] - 43s 2s/step - loss: 3.3544 - accuracy: 0.0544 - val_loss: 3.3543 - val_accuracy: 0.0275\n",
            "Epoch 7/20\n",
            "25/25 [==============================] - 43s 2s/step - loss: 3.3518 - accuracy: 0.0625 - val_loss: 3.3522 - val_accuracy: 0.0275\n",
            "Epoch 8/20\n",
            "25/25 [==============================] - 43s 2s/step - loss: 3.3488 - accuracy: 0.0494 - val_loss: 3.3502 - val_accuracy: 0.0300\n",
            "Epoch 9/20\n",
            "25/25 [==============================] - 43s 2s/step - loss: 3.3473 - accuracy: 0.0569 - val_loss: 3.3482 - val_accuracy: 0.0400\n",
            "Epoch 10/20\n",
            "25/25 [==============================] - 43s 2s/step - loss: 3.3454 - accuracy: 0.0625 - val_loss: 3.3463 - val_accuracy: 0.0500\n",
            "Epoch 11/20\n",
            "25/25 [==============================] - 43s 2s/step - loss: 3.3429 - accuracy: 0.0600 - val_loss: 3.3444 - val_accuracy: 0.0600\n",
            "Epoch 12/20\n",
            "25/25 [==============================] - 43s 2s/step - loss: 3.3415 - accuracy: 0.0619 - val_loss: 3.3425 - val_accuracy: 0.0700\n",
            "Epoch 13/20\n",
            "25/25 [==============================] - 43s 2s/step - loss: 3.3391 - accuracy: 0.0669 - val_loss: 3.3406 - val_accuracy: 0.0650\n",
            "Epoch 14/20\n",
            "25/25 [==============================] - 50s 2s/step - loss: 3.3373 - accuracy: 0.0600 - val_loss: 3.3388 - val_accuracy: 0.0650\n",
            "Epoch 15/20\n",
            "25/25 [==============================] - 43s 2s/step - loss: 3.3353 - accuracy: 0.0650 - val_loss: 3.3370 - val_accuracy: 0.0650\n",
            "Epoch 16/20\n",
            "25/25 [==============================] - 43s 2s/step - loss: 3.3334 - accuracy: 0.0669 - val_loss: 3.3353 - val_accuracy: 0.0725\n",
            "Epoch 17/20\n",
            "25/25 [==============================] - 43s 2s/step - loss: 3.3318 - accuracy: 0.0719 - val_loss: 3.3336 - val_accuracy: 0.0725\n",
            "Epoch 18/20\n",
            "25/25 [==============================] - 43s 2s/step - loss: 3.3296 - accuracy: 0.0619 - val_loss: 3.3319 - val_accuracy: 0.0700\n",
            "Epoch 19/20\n",
            "25/25 [==============================] - 43s 2s/step - loss: 3.3278 - accuracy: 0.0731 - val_loss: 3.3302 - val_accuracy: 0.0700\n",
            "Epoch 20/20\n",
            "25/25 [==============================] - 43s 2s/step - loss: 3.3254 - accuracy: 0.0719 - val_loss: 3.3286 - val_accuracy: 0.0700\n"
          ]
        }
      ]
    },
    {
      "cell_type": "code",
      "source": [
        "plt.figure(figsize=(16, 6))\n",
        "\n",
        "plt.subplot(1, 2, 1)\n",
        "plt.plot(history.history['loss'])\n",
        "plt.plot(history.history['val_loss'])\n",
        "plt.xlabel('Epoch')\n",
        "plt.ylabel('Loss')\n",
        "plt.legend(['Training', 'Validation'])\n",
        "plt.title('Loss')\n",
        "\n",
        "plt.subplot(1, 2, 2)\n",
        "plt.plot(history.history['accuracy'])\n",
        "plt.plot(history.history['val_accuracy'])\n",
        "plt.xlabel('Epoch')\n",
        "plt.ylabel('Accuracy')\n",
        "plt.legend(['Training', 'Validation'])\n",
        "plt.title('Accuracy')"
      ],
      "metadata": {
        "colab": {
          "base_uri": "https://localhost:8080/",
          "height": 419
        },
        "id": "o7ScyVutuHZP",
        "outputId": "feb02105-e210-4aaf-e335-4c8c8cf5ba02"
      },
      "execution_count": null,
      "outputs": [
        {
          "output_type": "execute_result",
          "data": {
            "text/plain": [
              "Text(0.5, 1.0, 'Accuracy')"
            ]
          },
          "metadata": {},
          "execution_count": 22
        },
        {
          "output_type": "display_data",
          "data": {
            "text/plain": [
              "<Figure size 1152x432 with 2 Axes>"
            ],
            "image/png": "[encoded data removed]"
          },
          "metadata": {
            "needs_background": "light"
          }
        }
      ]
    },
    {
      "cell_type": "code",
      "execution_count": null,
      "metadata": {
        "id": "YQpwQ1OrmdvV"
      },
      "outputs": [],
      "source": [
        "# find best parameters with CV"
      ]
    },
    {
      "cell_type": "code",
      "execution_count": null,
      "metadata": {
        "id": "TWxmHU1WmZBF"
      },
      "outputs": [],
      "source": [
        "# train model"
      ]
    },
    {
      "cell_type": "code",
      "execution_count": null,
      "metadata": {
        "id": "eC5jMWGPmad8"
      },
      "outputs": [],
      "source": [
        "# test model"
      ]
    }
  ],
  "metadata": {
    "colab": {
      "provenance": [],
      "authorship_tag": "ABX9TyM6oJZxjBRoBpbAEoJCtcIs",
      "include_colab_link": true
    },
    "kernelspec": {
      "display_name": "Python 3",
      "name": "python3"
    },
    "language_info": {
      "name": "python"
    }
  },
  "nbformat": 4,
  "nbformat_minor": 0
}